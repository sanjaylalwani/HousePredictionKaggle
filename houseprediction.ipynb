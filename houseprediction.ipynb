{
 "cells": [
  {
   "cell_type": "code",
   "execution_count": 1,
   "id": "ae48ae62",
   "metadata": {
    "execution": {
     "iopub.execute_input": "2021-08-11T05:48:29.000647Z",
     "iopub.status.busy": "2021-08-11T05:48:28.999447Z",
     "iopub.status.idle": "2021-08-11T05:48:30.290357Z",
     "shell.execute_reply": "2021-08-11T05:48:30.289572Z",
     "shell.execute_reply.started": "2021-08-11T04:26:44.877509Z"
    },
    "id": "sZPE7rfljeFh",
    "papermill": {
     "duration": 1.350641,
     "end_time": "2021-08-11T05:48:30.290603",
     "exception": false,
     "start_time": "2021-08-11T05:48:28.939962",
     "status": "completed"
    },
    "tags": []
   },
   "outputs": [],
   "source": [
    "import pandas as pd\n",
    "import numpy as np\n",
    "\n",
    "from sklearn import preprocessing\n",
    "from sklearn.ensemble import RandomForestRegressor\n",
    "from sklearn.tree import DecisionTreeClassifier\n",
    "\n",
    "le = preprocessing.LabelEncoder()\n",
    "\n",
    "import seaborn as sns\n",
    "import matplotlib.pyplot as plt\n",
    "from matplotlib.pyplot import figure\n",
    "\n",
    "%matplotlib inline"
   ]
  },
  {
   "cell_type": "code",
   "execution_count": 2,
   "id": "e2c31333",
   "metadata": {
    "execution": {
     "iopub.execute_input": "2021-08-11T05:48:30.411897Z",
     "iopub.status.busy": "2021-08-11T05:48:30.411301Z",
     "iopub.status.idle": "2021-08-11T05:48:30.457115Z",
     "shell.execute_reply": "2021-08-11T05:48:30.456493Z",
     "shell.execute_reply.started": "2021-08-11T04:26:45.017167Z"
    },
    "id": "Cl2LaU0RkfPY",
    "papermill": {
     "duration": 0.104655,
     "end_time": "2021-08-11T05:48:30.457272",
     "exception": false,
     "start_time": "2021-08-11T05:48:30.352617",
     "status": "completed"
    },
    "tags": []
   },
   "outputs": [],
   "source": [
    "train_df = pd.read_csv('../input/house-prices-advanced-regression-techniques/train.csv')"
   ]
  },
  {
   "cell_type": "code",
   "execution_count": 3,
   "id": "dc58f120",
   "metadata": {
    "execution": {
     "iopub.execute_input": "2021-08-11T05:48:30.585327Z",
     "iopub.status.busy": "2021-08-11T05:48:30.584662Z",
     "iopub.status.idle": "2021-08-11T05:48:30.612899Z",
     "shell.execute_reply": "2021-08-11T05:48:30.612356Z",
     "shell.execute_reply.started": "2021-08-11T04:26:45.085817Z"
    },
    "id": "BFJm4j6jlego",
    "outputId": "4a1cb61d-5fe3-4f9f-f8ca-dd39a5dd5c6b",
    "papermill": {
     "duration": 0.101055,
     "end_time": "2021-08-11T05:48:30.613037",
     "exception": false,
     "start_time": "2021-08-11T05:48:30.511982",
     "status": "completed"
    },
    "tags": []
   },
   "outputs": [
    {
     "data": {
      "text/html": [
       "<div>\n",
       "<style scoped>\n",
       "    .dataframe tbody tr th:only-of-type {\n",
       "        vertical-align: middle;\n",
       "    }\n",
       "\n",
       "    .dataframe tbody tr th {\n",
       "        vertical-align: top;\n",
       "    }\n",
       "\n",
       "    .dataframe thead th {\n",
       "        text-align: right;\n",
       "    }\n",
       "</style>\n",
       "<table border=\"1\" class=\"dataframe\">\n",
       "  <thead>\n",
       "    <tr style=\"text-align: right;\">\n",
       "      <th></th>\n",
       "      <th>Id</th>\n",
       "      <th>MSSubClass</th>\n",
       "      <th>MSZoning</th>\n",
       "      <th>LotFrontage</th>\n",
       "      <th>LotArea</th>\n",
       "      <th>Street</th>\n",
       "      <th>Alley</th>\n",
       "      <th>LotShape</th>\n",
       "      <th>LandContour</th>\n",
       "      <th>Utilities</th>\n",
       "      <th>...</th>\n",
       "      <th>PoolArea</th>\n",
       "      <th>PoolQC</th>\n",
       "      <th>Fence</th>\n",
       "      <th>MiscFeature</th>\n",
       "      <th>MiscVal</th>\n",
       "      <th>MoSold</th>\n",
       "      <th>YrSold</th>\n",
       "      <th>SaleType</th>\n",
       "      <th>SaleCondition</th>\n",
       "      <th>SalePrice</th>\n",
       "    </tr>\n",
       "  </thead>\n",
       "  <tbody>\n",
       "    <tr>\n",
       "      <th>0</th>\n",
       "      <td>1</td>\n",
       "      <td>60</td>\n",
       "      <td>RL</td>\n",
       "      <td>65.0</td>\n",
       "      <td>8450</td>\n",
       "      <td>Pave</td>\n",
       "      <td>NaN</td>\n",
       "      <td>Reg</td>\n",
       "      <td>Lvl</td>\n",
       "      <td>AllPub</td>\n",
       "      <td>...</td>\n",
       "      <td>0</td>\n",
       "      <td>NaN</td>\n",
       "      <td>NaN</td>\n",
       "      <td>NaN</td>\n",
       "      <td>0</td>\n",
       "      <td>2</td>\n",
       "      <td>2008</td>\n",
       "      <td>WD</td>\n",
       "      <td>Normal</td>\n",
       "      <td>208500</td>\n",
       "    </tr>\n",
       "    <tr>\n",
       "      <th>1</th>\n",
       "      <td>2</td>\n",
       "      <td>20</td>\n",
       "      <td>RL</td>\n",
       "      <td>80.0</td>\n",
       "      <td>9600</td>\n",
       "      <td>Pave</td>\n",
       "      <td>NaN</td>\n",
       "      <td>Reg</td>\n",
       "      <td>Lvl</td>\n",
       "      <td>AllPub</td>\n",
       "      <td>...</td>\n",
       "      <td>0</td>\n",
       "      <td>NaN</td>\n",
       "      <td>NaN</td>\n",
       "      <td>NaN</td>\n",
       "      <td>0</td>\n",
       "      <td>5</td>\n",
       "      <td>2007</td>\n",
       "      <td>WD</td>\n",
       "      <td>Normal</td>\n",
       "      <td>181500</td>\n",
       "    </tr>\n",
       "    <tr>\n",
       "      <th>2</th>\n",
       "      <td>3</td>\n",
       "      <td>60</td>\n",
       "      <td>RL</td>\n",
       "      <td>68.0</td>\n",
       "      <td>11250</td>\n",
       "      <td>Pave</td>\n",
       "      <td>NaN</td>\n",
       "      <td>IR1</td>\n",
       "      <td>Lvl</td>\n",
       "      <td>AllPub</td>\n",
       "      <td>...</td>\n",
       "      <td>0</td>\n",
       "      <td>NaN</td>\n",
       "      <td>NaN</td>\n",
       "      <td>NaN</td>\n",
       "      <td>0</td>\n",
       "      <td>9</td>\n",
       "      <td>2008</td>\n",
       "      <td>WD</td>\n",
       "      <td>Normal</td>\n",
       "      <td>223500</td>\n",
       "    </tr>\n",
       "    <tr>\n",
       "      <th>3</th>\n",
       "      <td>4</td>\n",
       "      <td>70</td>\n",
       "      <td>RL</td>\n",
       "      <td>60.0</td>\n",
       "      <td>9550</td>\n",
       "      <td>Pave</td>\n",
       "      <td>NaN</td>\n",
       "      <td>IR1</td>\n",
       "      <td>Lvl</td>\n",
       "      <td>AllPub</td>\n",
       "      <td>...</td>\n",
       "      <td>0</td>\n",
       "      <td>NaN</td>\n",
       "      <td>NaN</td>\n",
       "      <td>NaN</td>\n",
       "      <td>0</td>\n",
       "      <td>2</td>\n",
       "      <td>2006</td>\n",
       "      <td>WD</td>\n",
       "      <td>Abnorml</td>\n",
       "      <td>140000</td>\n",
       "    </tr>\n",
       "    <tr>\n",
       "      <th>4</th>\n",
       "      <td>5</td>\n",
       "      <td>60</td>\n",
       "      <td>RL</td>\n",
       "      <td>84.0</td>\n",
       "      <td>14260</td>\n",
       "      <td>Pave</td>\n",
       "      <td>NaN</td>\n",
       "      <td>IR1</td>\n",
       "      <td>Lvl</td>\n",
       "      <td>AllPub</td>\n",
       "      <td>...</td>\n",
       "      <td>0</td>\n",
       "      <td>NaN</td>\n",
       "      <td>NaN</td>\n",
       "      <td>NaN</td>\n",
       "      <td>0</td>\n",
       "      <td>12</td>\n",
       "      <td>2008</td>\n",
       "      <td>WD</td>\n",
       "      <td>Normal</td>\n",
       "      <td>250000</td>\n",
       "    </tr>\n",
       "  </tbody>\n",
       "</table>\n",
       "<p>5 rows × 81 columns</p>\n",
       "</div>"
      ],
      "text/plain": [
       "   Id  MSSubClass MSZoning  LotFrontage  LotArea Street Alley LotShape  \\\n",
       "0   1          60       RL         65.0     8450   Pave   NaN      Reg   \n",
       "1   2          20       RL         80.0     9600   Pave   NaN      Reg   \n",
       "2   3          60       RL         68.0    11250   Pave   NaN      IR1   \n",
       "3   4          70       RL         60.0     9550   Pave   NaN      IR1   \n",
       "4   5          60       RL         84.0    14260   Pave   NaN      IR1   \n",
       "\n",
       "  LandContour Utilities  ... PoolArea PoolQC Fence MiscFeature MiscVal MoSold  \\\n",
       "0         Lvl    AllPub  ...        0    NaN   NaN         NaN       0      2   \n",
       "1         Lvl    AllPub  ...        0    NaN   NaN         NaN       0      5   \n",
       "2         Lvl    AllPub  ...        0    NaN   NaN         NaN       0      9   \n",
       "3         Lvl    AllPub  ...        0    NaN   NaN         NaN       0      2   \n",
       "4         Lvl    AllPub  ...        0    NaN   NaN         NaN       0     12   \n",
       "\n",
       "  YrSold  SaleType  SaleCondition  SalePrice  \n",
       "0   2008        WD         Normal     208500  \n",
       "1   2007        WD         Normal     181500  \n",
       "2   2008        WD         Normal     223500  \n",
       "3   2006        WD        Abnorml     140000  \n",
       "4   2008        WD         Normal     250000  \n",
       "\n",
       "[5 rows x 81 columns]"
      ]
     },
     "execution_count": 3,
     "metadata": {},
     "output_type": "execute_result"
    }
   ],
   "source": [
    "train_df.head(5)"
   ]
  },
  {
   "cell_type": "code",
   "execution_count": 4,
   "id": "0b1c474a",
   "metadata": {
    "execution": {
     "iopub.execute_input": "2021-08-11T05:48:30.730759Z",
     "iopub.status.busy": "2021-08-11T05:48:30.729819Z",
     "iopub.status.idle": "2021-08-11T05:48:30.734010Z",
     "shell.execute_reply": "2021-08-11T05:48:30.733395Z",
     "shell.execute_reply.started": "2021-08-11T04:26:45.165552Z"
    },
    "id": "ilBwJ-Dckjcr",
    "outputId": "cda6b57e-1971-4a2f-d128-ce28cfcc9c37",
    "papermill": {
     "duration": 0.064975,
     "end_time": "2021-08-11T05:48:30.734159",
     "exception": false,
     "start_time": "2021-08-11T05:48:30.669184",
     "status": "completed"
    },
    "tags": []
   },
   "outputs": [
    {
     "data": {
      "text/plain": [
       "(1460, 81)"
      ]
     },
     "execution_count": 4,
     "metadata": {},
     "output_type": "execute_result"
    }
   ],
   "source": [
    "train_df.shape"
   ]
  },
  {
   "cell_type": "code",
   "execution_count": 5,
   "id": "9edc2be0",
   "metadata": {
    "execution": {
     "iopub.execute_input": "2021-08-11T05:48:30.859025Z",
     "iopub.status.busy": "2021-08-11T05:48:30.858307Z",
     "iopub.status.idle": "2021-08-11T05:48:30.883729Z",
     "shell.execute_reply": "2021-08-11T05:48:30.883053Z",
     "shell.execute_reply.started": "2021-08-11T04:26:45.176188Z"
    },
    "id": "EgZJHwxfkt2S",
    "outputId": "488386e7-1187-43d5-cb2a-2c78e9449d63",
    "papermill": {
     "duration": 0.093825,
     "end_time": "2021-08-11T05:48:30.883864",
     "exception": false,
     "start_time": "2021-08-11T05:48:30.790039",
     "status": "completed"
    },
    "tags": []
   },
   "outputs": [
    {
     "name": "stdout",
     "output_type": "stream",
     "text": [
      "<class 'pandas.core.frame.DataFrame'>\n",
      "RangeIndex: 1460 entries, 0 to 1459\n",
      "Data columns (total 81 columns):\n",
      " #   Column         Non-Null Count  Dtype  \n",
      "---  ------         --------------  -----  \n",
      " 0   Id             1460 non-null   int64  \n",
      " 1   MSSubClass     1460 non-null   int64  \n",
      " 2   MSZoning       1460 non-null   object \n",
      " 3   LotFrontage    1201 non-null   float64\n",
      " 4   LotArea        1460 non-null   int64  \n",
      " 5   Street         1460 non-null   object \n",
      " 6   Alley          91 non-null     object \n",
      " 7   LotShape       1460 non-null   object \n",
      " 8   LandContour    1460 non-null   object \n",
      " 9   Utilities      1460 non-null   object \n",
      " 10  LotConfig      1460 non-null   object \n",
      " 11  LandSlope      1460 non-null   object \n",
      " 12  Neighborhood   1460 non-null   object \n",
      " 13  Condition1     1460 non-null   object \n",
      " 14  Condition2     1460 non-null   object \n",
      " 15  BldgType       1460 non-null   object \n",
      " 16  HouseStyle     1460 non-null   object \n",
      " 17  OverallQual    1460 non-null   int64  \n",
      " 18  OverallCond    1460 non-null   int64  \n",
      " 19  YearBuilt      1460 non-null   int64  \n",
      " 20  YearRemodAdd   1460 non-null   int64  \n",
      " 21  RoofStyle      1460 non-null   object \n",
      " 22  RoofMatl       1460 non-null   object \n",
      " 23  Exterior1st    1460 non-null   object \n",
      " 24  Exterior2nd    1460 non-null   object \n",
      " 25  MasVnrType     1452 non-null   object \n",
      " 26  MasVnrArea     1452 non-null   float64\n",
      " 27  ExterQual      1460 non-null   object \n",
      " 28  ExterCond      1460 non-null   object \n",
      " 29  Foundation     1460 non-null   object \n",
      " 30  BsmtQual       1423 non-null   object \n",
      " 31  BsmtCond       1423 non-null   object \n",
      " 32  BsmtExposure   1422 non-null   object \n",
      " 33  BsmtFinType1   1423 non-null   object \n",
      " 34  BsmtFinSF1     1460 non-null   int64  \n",
      " 35  BsmtFinType2   1422 non-null   object \n",
      " 36  BsmtFinSF2     1460 non-null   int64  \n",
      " 37  BsmtUnfSF      1460 non-null   int64  \n",
      " 38  TotalBsmtSF    1460 non-null   int64  \n",
      " 39  Heating        1460 non-null   object \n",
      " 40  HeatingQC      1460 non-null   object \n",
      " 41  CentralAir     1460 non-null   object \n",
      " 42  Electrical     1459 non-null   object \n",
      " 43  1stFlrSF       1460 non-null   int64  \n",
      " 44  2ndFlrSF       1460 non-null   int64  \n",
      " 45  LowQualFinSF   1460 non-null   int64  \n",
      " 46  GrLivArea      1460 non-null   int64  \n",
      " 47  BsmtFullBath   1460 non-null   int64  \n",
      " 48  BsmtHalfBath   1460 non-null   int64  \n",
      " 49  FullBath       1460 non-null   int64  \n",
      " 50  HalfBath       1460 non-null   int64  \n",
      " 51  BedroomAbvGr   1460 non-null   int64  \n",
      " 52  KitchenAbvGr   1460 non-null   int64  \n",
      " 53  KitchenQual    1460 non-null   object \n",
      " 54  TotRmsAbvGrd   1460 non-null   int64  \n",
      " 55  Functional     1460 non-null   object \n",
      " 56  Fireplaces     1460 non-null   int64  \n",
      " 57  FireplaceQu    770 non-null    object \n",
      " 58  GarageType     1379 non-null   object \n",
      " 59  GarageYrBlt    1379 non-null   float64\n",
      " 60  GarageFinish   1379 non-null   object \n",
      " 61  GarageCars     1460 non-null   int64  \n",
      " 62  GarageArea     1460 non-null   int64  \n",
      " 63  GarageQual     1379 non-null   object \n",
      " 64  GarageCond     1379 non-null   object \n",
      " 65  PavedDrive     1460 non-null   object \n",
      " 66  WoodDeckSF     1460 non-null   int64  \n",
      " 67  OpenPorchSF    1460 non-null   int64  \n",
      " 68  EnclosedPorch  1460 non-null   int64  \n",
      " 69  3SsnPorch      1460 non-null   int64  \n",
      " 70  ScreenPorch    1460 non-null   int64  \n",
      " 71  PoolArea       1460 non-null   int64  \n",
      " 72  PoolQC         7 non-null      object \n",
      " 73  Fence          281 non-null    object \n",
      " 74  MiscFeature    54 non-null     object \n",
      " 75  MiscVal        1460 non-null   int64  \n",
      " 76  MoSold         1460 non-null   int64  \n",
      " 77  YrSold         1460 non-null   int64  \n",
      " 78  SaleType       1460 non-null   object \n",
      " 79  SaleCondition  1460 non-null   object \n",
      " 80  SalePrice      1460 non-null   int64  \n",
      "dtypes: float64(3), int64(35), object(43)\n",
      "memory usage: 924.0+ KB\n"
     ]
    }
   ],
   "source": [
    "train_df.info()"
   ]
  },
  {
   "cell_type": "code",
   "execution_count": 6,
   "id": "136ae1b0",
   "metadata": {
    "execution": {
     "iopub.execute_input": "2021-08-11T05:48:31.006374Z",
     "iopub.status.busy": "2021-08-11T05:48:31.002402Z",
     "iopub.status.idle": "2021-08-11T05:48:31.104408Z",
     "shell.execute_reply": "2021-08-11T05:48:31.104859Z",
     "shell.execute_reply.started": "2021-08-11T04:26:45.216992Z"
    },
    "id": "KY3vphwak6EF",
    "outputId": "a03d7ce8-25b0-4fbd-c78c-8704f787e9cb",
    "papermill": {
     "duration": 0.163514,
     "end_time": "2021-08-11T05:48:31.105060",
     "exception": false,
     "start_time": "2021-08-11T05:48:30.941546",
     "status": "completed"
    },
    "tags": []
   },
   "outputs": [
    {
     "data": {
      "text/html": [
       "<div>\n",
       "<style scoped>\n",
       "    .dataframe tbody tr th:only-of-type {\n",
       "        vertical-align: middle;\n",
       "    }\n",
       "\n",
       "    .dataframe tbody tr th {\n",
       "        vertical-align: top;\n",
       "    }\n",
       "\n",
       "    .dataframe thead th {\n",
       "        text-align: right;\n",
       "    }\n",
       "</style>\n",
       "<table border=\"1\" class=\"dataframe\">\n",
       "  <thead>\n",
       "    <tr style=\"text-align: right;\">\n",
       "      <th></th>\n",
       "      <th>Id</th>\n",
       "      <th>MSSubClass</th>\n",
       "      <th>LotFrontage</th>\n",
       "      <th>LotArea</th>\n",
       "      <th>OverallQual</th>\n",
       "      <th>OverallCond</th>\n",
       "      <th>YearBuilt</th>\n",
       "      <th>YearRemodAdd</th>\n",
       "      <th>MasVnrArea</th>\n",
       "      <th>BsmtFinSF1</th>\n",
       "      <th>...</th>\n",
       "      <th>WoodDeckSF</th>\n",
       "      <th>OpenPorchSF</th>\n",
       "      <th>EnclosedPorch</th>\n",
       "      <th>3SsnPorch</th>\n",
       "      <th>ScreenPorch</th>\n",
       "      <th>PoolArea</th>\n",
       "      <th>MiscVal</th>\n",
       "      <th>MoSold</th>\n",
       "      <th>YrSold</th>\n",
       "      <th>SalePrice</th>\n",
       "    </tr>\n",
       "  </thead>\n",
       "  <tbody>\n",
       "    <tr>\n",
       "      <th>count</th>\n",
       "      <td>1460.000000</td>\n",
       "      <td>1460.000000</td>\n",
       "      <td>1201.000000</td>\n",
       "      <td>1460.000000</td>\n",
       "      <td>1460.000000</td>\n",
       "      <td>1460.000000</td>\n",
       "      <td>1460.000000</td>\n",
       "      <td>1460.000000</td>\n",
       "      <td>1452.000000</td>\n",
       "      <td>1460.000000</td>\n",
       "      <td>...</td>\n",
       "      <td>1460.000000</td>\n",
       "      <td>1460.000000</td>\n",
       "      <td>1460.000000</td>\n",
       "      <td>1460.000000</td>\n",
       "      <td>1460.000000</td>\n",
       "      <td>1460.000000</td>\n",
       "      <td>1460.000000</td>\n",
       "      <td>1460.000000</td>\n",
       "      <td>1460.000000</td>\n",
       "      <td>1460.000000</td>\n",
       "    </tr>\n",
       "    <tr>\n",
       "      <th>mean</th>\n",
       "      <td>730.500000</td>\n",
       "      <td>56.897260</td>\n",
       "      <td>70.049958</td>\n",
       "      <td>10516.828082</td>\n",
       "      <td>6.099315</td>\n",
       "      <td>5.575342</td>\n",
       "      <td>1971.267808</td>\n",
       "      <td>1984.865753</td>\n",
       "      <td>103.685262</td>\n",
       "      <td>443.639726</td>\n",
       "      <td>...</td>\n",
       "      <td>94.244521</td>\n",
       "      <td>46.660274</td>\n",
       "      <td>21.954110</td>\n",
       "      <td>3.409589</td>\n",
       "      <td>15.060959</td>\n",
       "      <td>2.758904</td>\n",
       "      <td>43.489041</td>\n",
       "      <td>6.321918</td>\n",
       "      <td>2007.815753</td>\n",
       "      <td>180921.195890</td>\n",
       "    </tr>\n",
       "    <tr>\n",
       "      <th>std</th>\n",
       "      <td>421.610009</td>\n",
       "      <td>42.300571</td>\n",
       "      <td>24.284752</td>\n",
       "      <td>9981.264932</td>\n",
       "      <td>1.382997</td>\n",
       "      <td>1.112799</td>\n",
       "      <td>30.202904</td>\n",
       "      <td>20.645407</td>\n",
       "      <td>181.066207</td>\n",
       "      <td>456.098091</td>\n",
       "      <td>...</td>\n",
       "      <td>125.338794</td>\n",
       "      <td>66.256028</td>\n",
       "      <td>61.119149</td>\n",
       "      <td>29.317331</td>\n",
       "      <td>55.757415</td>\n",
       "      <td>40.177307</td>\n",
       "      <td>496.123024</td>\n",
       "      <td>2.703626</td>\n",
       "      <td>1.328095</td>\n",
       "      <td>79442.502883</td>\n",
       "    </tr>\n",
       "    <tr>\n",
       "      <th>min</th>\n",
       "      <td>1.000000</td>\n",
       "      <td>20.000000</td>\n",
       "      <td>21.000000</td>\n",
       "      <td>1300.000000</td>\n",
       "      <td>1.000000</td>\n",
       "      <td>1.000000</td>\n",
       "      <td>1872.000000</td>\n",
       "      <td>1950.000000</td>\n",
       "      <td>0.000000</td>\n",
       "      <td>0.000000</td>\n",
       "      <td>...</td>\n",
       "      <td>0.000000</td>\n",
       "      <td>0.000000</td>\n",
       "      <td>0.000000</td>\n",
       "      <td>0.000000</td>\n",
       "      <td>0.000000</td>\n",
       "      <td>0.000000</td>\n",
       "      <td>0.000000</td>\n",
       "      <td>1.000000</td>\n",
       "      <td>2006.000000</td>\n",
       "      <td>34900.000000</td>\n",
       "    </tr>\n",
       "    <tr>\n",
       "      <th>25%</th>\n",
       "      <td>365.750000</td>\n",
       "      <td>20.000000</td>\n",
       "      <td>59.000000</td>\n",
       "      <td>7553.500000</td>\n",
       "      <td>5.000000</td>\n",
       "      <td>5.000000</td>\n",
       "      <td>1954.000000</td>\n",
       "      <td>1967.000000</td>\n",
       "      <td>0.000000</td>\n",
       "      <td>0.000000</td>\n",
       "      <td>...</td>\n",
       "      <td>0.000000</td>\n",
       "      <td>0.000000</td>\n",
       "      <td>0.000000</td>\n",
       "      <td>0.000000</td>\n",
       "      <td>0.000000</td>\n",
       "      <td>0.000000</td>\n",
       "      <td>0.000000</td>\n",
       "      <td>5.000000</td>\n",
       "      <td>2007.000000</td>\n",
       "      <td>129975.000000</td>\n",
       "    </tr>\n",
       "    <tr>\n",
       "      <th>50%</th>\n",
       "      <td>730.500000</td>\n",
       "      <td>50.000000</td>\n",
       "      <td>69.000000</td>\n",
       "      <td>9478.500000</td>\n",
       "      <td>6.000000</td>\n",
       "      <td>5.000000</td>\n",
       "      <td>1973.000000</td>\n",
       "      <td>1994.000000</td>\n",
       "      <td>0.000000</td>\n",
       "      <td>383.500000</td>\n",
       "      <td>...</td>\n",
       "      <td>0.000000</td>\n",
       "      <td>25.000000</td>\n",
       "      <td>0.000000</td>\n",
       "      <td>0.000000</td>\n",
       "      <td>0.000000</td>\n",
       "      <td>0.000000</td>\n",
       "      <td>0.000000</td>\n",
       "      <td>6.000000</td>\n",
       "      <td>2008.000000</td>\n",
       "      <td>163000.000000</td>\n",
       "    </tr>\n",
       "    <tr>\n",
       "      <th>75%</th>\n",
       "      <td>1095.250000</td>\n",
       "      <td>70.000000</td>\n",
       "      <td>80.000000</td>\n",
       "      <td>11601.500000</td>\n",
       "      <td>7.000000</td>\n",
       "      <td>6.000000</td>\n",
       "      <td>2000.000000</td>\n",
       "      <td>2004.000000</td>\n",
       "      <td>166.000000</td>\n",
       "      <td>712.250000</td>\n",
       "      <td>...</td>\n",
       "      <td>168.000000</td>\n",
       "      <td>68.000000</td>\n",
       "      <td>0.000000</td>\n",
       "      <td>0.000000</td>\n",
       "      <td>0.000000</td>\n",
       "      <td>0.000000</td>\n",
       "      <td>0.000000</td>\n",
       "      <td>8.000000</td>\n",
       "      <td>2009.000000</td>\n",
       "      <td>214000.000000</td>\n",
       "    </tr>\n",
       "    <tr>\n",
       "      <th>max</th>\n",
       "      <td>1460.000000</td>\n",
       "      <td>190.000000</td>\n",
       "      <td>313.000000</td>\n",
       "      <td>215245.000000</td>\n",
       "      <td>10.000000</td>\n",
       "      <td>9.000000</td>\n",
       "      <td>2010.000000</td>\n",
       "      <td>2010.000000</td>\n",
       "      <td>1600.000000</td>\n",
       "      <td>5644.000000</td>\n",
       "      <td>...</td>\n",
       "      <td>857.000000</td>\n",
       "      <td>547.000000</td>\n",
       "      <td>552.000000</td>\n",
       "      <td>508.000000</td>\n",
       "      <td>480.000000</td>\n",
       "      <td>738.000000</td>\n",
       "      <td>15500.000000</td>\n",
       "      <td>12.000000</td>\n",
       "      <td>2010.000000</td>\n",
       "      <td>755000.000000</td>\n",
       "    </tr>\n",
       "  </tbody>\n",
       "</table>\n",
       "<p>8 rows × 38 columns</p>\n",
       "</div>"
      ],
      "text/plain": [
       "                Id   MSSubClass  LotFrontage        LotArea  OverallQual  \\\n",
       "count  1460.000000  1460.000000  1201.000000    1460.000000  1460.000000   \n",
       "mean    730.500000    56.897260    70.049958   10516.828082     6.099315   \n",
       "std     421.610009    42.300571    24.284752    9981.264932     1.382997   \n",
       "min       1.000000    20.000000    21.000000    1300.000000     1.000000   \n",
       "25%     365.750000    20.000000    59.000000    7553.500000     5.000000   \n",
       "50%     730.500000    50.000000    69.000000    9478.500000     6.000000   \n",
       "75%    1095.250000    70.000000    80.000000   11601.500000     7.000000   \n",
       "max    1460.000000   190.000000   313.000000  215245.000000    10.000000   \n",
       "\n",
       "       OverallCond    YearBuilt  YearRemodAdd   MasVnrArea   BsmtFinSF1  ...  \\\n",
       "count  1460.000000  1460.000000   1460.000000  1452.000000  1460.000000  ...   \n",
       "mean      5.575342  1971.267808   1984.865753   103.685262   443.639726  ...   \n",
       "std       1.112799    30.202904     20.645407   181.066207   456.098091  ...   \n",
       "min       1.000000  1872.000000   1950.000000     0.000000     0.000000  ...   \n",
       "25%       5.000000  1954.000000   1967.000000     0.000000     0.000000  ...   \n",
       "50%       5.000000  1973.000000   1994.000000     0.000000   383.500000  ...   \n",
       "75%       6.000000  2000.000000   2004.000000   166.000000   712.250000  ...   \n",
       "max       9.000000  2010.000000   2010.000000  1600.000000  5644.000000  ...   \n",
       "\n",
       "        WoodDeckSF  OpenPorchSF  EnclosedPorch    3SsnPorch  ScreenPorch  \\\n",
       "count  1460.000000  1460.000000    1460.000000  1460.000000  1460.000000   \n",
       "mean     94.244521    46.660274      21.954110     3.409589    15.060959   \n",
       "std     125.338794    66.256028      61.119149    29.317331    55.757415   \n",
       "min       0.000000     0.000000       0.000000     0.000000     0.000000   \n",
       "25%       0.000000     0.000000       0.000000     0.000000     0.000000   \n",
       "50%       0.000000    25.000000       0.000000     0.000000     0.000000   \n",
       "75%     168.000000    68.000000       0.000000     0.000000     0.000000   \n",
       "max     857.000000   547.000000     552.000000   508.000000   480.000000   \n",
       "\n",
       "          PoolArea       MiscVal       MoSold       YrSold      SalePrice  \n",
       "count  1460.000000   1460.000000  1460.000000  1460.000000    1460.000000  \n",
       "mean      2.758904     43.489041     6.321918  2007.815753  180921.195890  \n",
       "std      40.177307    496.123024     2.703626     1.328095   79442.502883  \n",
       "min       0.000000      0.000000     1.000000  2006.000000   34900.000000  \n",
       "25%       0.000000      0.000000     5.000000  2007.000000  129975.000000  \n",
       "50%       0.000000      0.000000     6.000000  2008.000000  163000.000000  \n",
       "75%       0.000000      0.000000     8.000000  2009.000000  214000.000000  \n",
       "max     738.000000  15500.000000    12.000000  2010.000000  755000.000000  \n",
       "\n",
       "[8 rows x 38 columns]"
      ]
     },
     "execution_count": 6,
     "metadata": {},
     "output_type": "execute_result"
    }
   ],
   "source": [
    "train_df.describe()"
   ]
  },
  {
   "cell_type": "markdown",
   "id": "06ae4af4",
   "metadata": {
    "id": "jQX-LCo5nytX",
    "papermill": {
     "duration": 0.057601,
     "end_time": "2021-08-11T05:48:31.221326",
     "exception": false,
     "start_time": "2021-08-11T05:48:31.163725",
     "status": "completed"
    },
    "tags": []
   },
   "source": [
    "# Data Visualisation"
   ]
  },
  {
   "cell_type": "markdown",
   "id": "51458d2c",
   "metadata": {
    "id": "PJ-ygg_sR80q",
    "papermill": {
     "duration": 0.071279,
     "end_time": "2021-08-11T05:48:31.358252",
     "exception": false,
     "start_time": "2021-08-11T05:48:31.286973",
     "status": "completed"
    },
    "tags": []
   },
   "source": [
    "get correlations of each features in dataset Plotting Heat Map to visualise correlation data better. Drwan for only features having high correlation \n",
    "(>0.4) with Target Variable"
   ]
  },
  {
   "cell_type": "code",
   "execution_count": 7,
   "id": "58c03d7c",
   "metadata": {
    "execution": {
     "iopub.execute_input": "2021-08-11T05:48:31.487357Z",
     "iopub.status.busy": "2021-08-11T05:48:31.486620Z",
     "iopub.status.idle": "2021-08-11T05:48:33.020892Z",
     "shell.execute_reply": "2021-08-11T05:48:33.021439Z",
     "shell.execute_reply.started": "2021-08-11T04:26:45.317242Z"
    },
    "id": "gzdi2lukla6Q",
    "outputId": "830c12c4-b9ff-4fc7-fe20-bb08546f5049",
    "papermill": {
     "duration": 1.598735,
     "end_time": "2021-08-11T05:48:33.021679",
     "exception": false,
     "start_time": "2021-08-11T05:48:31.422944",
     "status": "completed"
    },
    "tags": []
   },
   "outputs": [
    {
     "data": {
      "image/png": "[encoded data removed]",
      "text/plain": [
       "<Figure size 720x720 with 2 Axes>"
      ]
     },
     "metadata": {
      "needs_background": "light"
     },
     "output_type": "display_data"
    }
   ],
   "source": [
    "corr = train_df.corr()\n",
    "top_corr_features = corr.index[abs(corr[\"SalePrice\"])>0.4]\n",
    "\n",
    "plt.figure(figsize=(10,10))\n",
    "g=sns.heatmap(train_df[top_corr_features].corr(),annot=True,cmap=\"YlGnBu\")"
   ]
  },
  {
   "cell_type": "code",
   "execution_count": 8,
   "id": "a7a9c126",
   "metadata": {
    "execution": {
     "iopub.execute_input": "2021-08-11T05:48:33.149626Z",
     "iopub.status.busy": "2021-08-11T05:48:33.148972Z",
     "iopub.status.idle": "2021-08-11T05:48:33.551472Z",
     "shell.execute_reply": "2021-08-11T05:48:33.550895Z",
     "shell.execute_reply.started": "2021-08-11T04:26:46.624674Z"
    },
    "id": "mDWYTPYkzgyH",
    "outputId": "f209072f-1a28-4841-ee9f-a0daf7bc49a4",
    "papermill": {
     "duration": 0.466904,
     "end_time": "2021-08-11T05:48:33.551609",
     "exception": false,
     "start_time": "2021-08-11T05:48:33.084705",
     "status": "completed"
    },
    "tags": []
   },
   "outputs": [
    {
     "data": {
      "text/plain": [
       "<AxesSubplot:xlabel='OverallQual', ylabel='SalePrice'>"
      ]
     },
     "execution_count": 8,
     "metadata": {},
     "output_type": "execute_result"
    },
    {
     "data": {
      "image/png": "[encoded data removed]",
      "text/plain": [
       "<Figure size 576x432 with 1 Axes>"
      ]
     },
     "metadata": {},
     "output_type": "display_data"
    }
   ],
   "source": [
    "sns.set(rc={'figure.figsize':(8,6)})\n",
    "sns.boxplot(x='OverallQual', y='SalePrice', data=train_df)"
   ]
  },
  {
   "cell_type": "code",
   "execution_count": 9,
   "id": "4922264e",
   "metadata": {
    "execution": {
     "iopub.execute_input": "2021-08-11T05:48:33.709448Z",
     "iopub.status.busy": "2021-08-11T05:48:33.708762Z",
     "iopub.status.idle": "2021-08-11T05:48:34.005664Z",
     "shell.execute_reply": "2021-08-11T05:48:34.004973Z",
     "shell.execute_reply.started": "2021-08-11T04:26:46.939729Z"
    },
    "id": "C4ar6IQijCTK",
    "outputId": "05dec726-1510-4085-cdf7-468324f98009",
    "papermill": {
     "duration": 0.389762,
     "end_time": "2021-08-11T05:48:34.005840",
     "exception": false,
     "start_time": "2021-08-11T05:48:33.616078",
     "status": "completed"
    },
    "tags": []
   },
   "outputs": [
    {
     "data": {
      "text/plain": [
       "<matplotlib.lines.Line2D at 0x7f6cd5335750>"
      ]
     },
     "execution_count": 9,
     "metadata": {},
     "output_type": "execute_result"
    },
    {
     "data": {
      "image/png": "[encoded data removed]",
      "text/plain": [
       "<Figure size 504x360 with 1 Axes>"
      ]
     },
     "metadata": {},
     "output_type": "display_data"
    }
   ],
   "source": [
    "sns.set(rc={'figure.figsize':(7,5)})\n",
    "sns.scatterplot(x='GrLivArea', y='SalePrice', data=train_df)\n",
    "plt.axhline(y=200000, color='r')\n",
    "plt.axvline(x=4000, color='r')"
   ]
  },
  {
   "cell_type": "code",
   "execution_count": 10,
   "id": "987ceb60",
   "metadata": {
    "execution": {
     "iopub.execute_input": "2021-08-11T05:48:34.147325Z",
     "iopub.status.busy": "2021-08-11T05:48:34.146292Z",
     "iopub.status.idle": "2021-08-11T05:48:34.408630Z",
     "shell.execute_reply": "2021-08-11T05:48:34.407853Z",
     "shell.execute_reply.started": "2021-08-11T04:26:47.213108Z"
    },
    "id": "YHZ2yeJ1S7hf",
    "outputId": "fecced5d-5249-4159-a9ce-621eee07f021",
    "papermill": {
     "duration": 0.336244,
     "end_time": "2021-08-11T05:48:34.408771",
     "exception": false,
     "start_time": "2021-08-11T05:48:34.072527",
     "status": "completed"
    },
    "tags": []
   },
   "outputs": [
    {
     "data": {
      "text/plain": [
       "<AxesSubplot:xlabel='GarageCars', ylabel='SalePrice'>"
      ]
     },
     "execution_count": 10,
     "metadata": {},
     "output_type": "execute_result"
    },
    {
     "data": {
      "image/png": "[encoded data removed]",
      "text/plain": [
       "<Figure size 576x432 with 1 Axes>"
      ]
     },
     "metadata": {},
     "output_type": "display_data"
    }
   ],
   "source": [
    "sns.set(rc={'figure.figsize':(8,6)})\n",
    "sns.boxplot(x='GarageCars', y='SalePrice', data=train_df)"
   ]
  },
  {
   "cell_type": "code",
   "execution_count": 11,
   "id": "b2d59e9b",
   "metadata": {
    "execution": {
     "iopub.execute_input": "2021-08-11T05:48:34.572674Z",
     "iopub.status.busy": "2021-08-11T05:48:34.554996Z",
     "iopub.status.idle": "2021-08-11T05:48:34.878113Z",
     "shell.execute_reply": "2021-08-11T05:48:34.877442Z",
     "shell.execute_reply.started": "2021-08-11T04:26:47.434315Z"
    },
    "papermill": {
     "duration": 0.399942,
     "end_time": "2021-08-11T05:48:34.878273",
     "exception": false,
     "start_time": "2021-08-11T05:48:34.478331",
     "status": "completed"
    },
    "tags": []
   },
   "outputs": [
    {
     "data": {
      "text/plain": [
       "<matplotlib.lines.Line2D at 0x7f6cd517df10>"
      ]
     },
     "execution_count": 11,
     "metadata": {},
     "output_type": "execute_result"
    },
    {
     "data": {
      "image/png": "[encoded data removed]",
      "text/plain": [
       "<Figure size 504x360 with 1 Axes>"
      ]
     },
     "metadata": {},
     "output_type": "display_data"
    }
   ],
   "source": [
    "sns.set(rc={'figure.figsize':(7,5)})\n",
    "sns.scatterplot(x='GarageArea', y='SalePrice', data=train_df)\n",
    "plt.axvline(x=1200, color='r')\n",
    "plt.axhline(y=300000, color='r')"
   ]
  },
  {
   "cell_type": "code",
   "execution_count": 12,
   "id": "edb879eb",
   "metadata": {
    "execution": {
     "iopub.execute_input": "2021-08-11T05:48:35.030708Z",
     "iopub.status.busy": "2021-08-11T05:48:35.029865Z",
     "iopub.status.idle": "2021-08-11T05:48:35.494550Z",
     "shell.execute_reply": "2021-08-11T05:48:35.495046Z",
     "shell.execute_reply.started": "2021-08-11T04:26:47.849608Z"
    },
    "id": "sc0Ex747IrvE",
    "outputId": "ce42139a-a3ee-4d89-f8fc-a9954b499894",
    "papermill": {
     "duration": 0.548439,
     "end_time": "2021-08-11T05:48:35.495235",
     "exception": false,
     "start_time": "2021-08-11T05:48:34.946796",
     "status": "completed"
    },
    "tags": []
   },
   "outputs": [
    {
     "data": {
      "text/plain": [
       "<AxesSubplot:xlabel='TotRmsAbvGrd', ylabel='SalePrice'>"
      ]
     },
     "execution_count": 12,
     "metadata": {},
     "output_type": "execute_result"
    },
    {
     "data": {
      "image/png": "[encoded data removed]",
      "text/plain": [
       "<Figure size 576x432 with 1 Axes>"
      ]
     },
     "metadata": {},
     "output_type": "display_data"
    }
   ],
   "source": [
    "sns.set(rc={'figure.figsize':(8,6)})\n",
    "sns.boxplot(x='TotRmsAbvGrd', y='SalePrice', data=train_df)"
   ]
  },
  {
   "cell_type": "code",
   "execution_count": 13,
   "id": "b3f44321",
   "metadata": {
    "execution": {
     "iopub.execute_input": "2021-08-11T05:48:35.644235Z",
     "iopub.status.busy": "2021-08-11T05:48:35.643302Z",
     "iopub.status.idle": "2021-08-11T05:48:35.891838Z",
     "shell.execute_reply": "2021-08-11T05:48:35.891152Z",
     "shell.execute_reply.started": "2021-08-11T04:26:48.205884Z"
    },
    "id": "3-kVYa5m5GUi",
    "outputId": "30a58032-2ec5-43ca-9e66-decfb50a3233",
    "papermill": {
     "duration": 0.327734,
     "end_time": "2021-08-11T05:48:35.891989",
     "exception": false,
     "start_time": "2021-08-11T05:48:35.564255",
     "status": "completed"
    },
    "tags": []
   },
   "outputs": [
    {
     "data": {
      "text/plain": [
       "<Figure size 640x320 with 0 Axes>"
      ]
     },
     "metadata": {},
     "output_type": "display_data"
    },
    {
     "data": {
      "image/png": "[encoded data removed]",
      "text/plain": [
       "<Figure size 576x432 with 1 Axes>"
      ]
     },
     "metadata": {},
     "output_type": "display_data"
    }
   ],
   "source": [
    "figure(figsize=(8, 4), dpi=80)\n",
    "dt = train_df['YearRemodAdd'].value_counts().rename_axis('YearRemodAdd').reset_index(name='counts')\n",
    "ax2 = dt.plot.scatter(x='YearRemodAdd', y='counts', c='purple', colormap='viridis')\n",
    "plt.show()"
   ]
  },
  {
   "cell_type": "markdown",
   "id": "7bddba88",
   "metadata": {
    "id": "TjfzGObAn8j6",
    "papermill": {
     "duration": 0.071774,
     "end_time": "2021-08-11T05:48:36.035273",
     "exception": false,
     "start_time": "2021-08-11T05:48:35.963499",
     "status": "completed"
    },
    "tags": []
   },
   "source": [
    "# Handling missing data"
   ]
  },
  {
   "cell_type": "code",
   "execution_count": 14,
   "id": "9de0722c",
   "metadata": {
    "execution": {
     "iopub.execute_input": "2021-08-11T05:48:36.184332Z",
     "iopub.status.busy": "2021-08-11T05:48:36.183297Z",
     "iopub.status.idle": "2021-08-11T05:48:36.185902Z",
     "shell.execute_reply": "2021-08-11T05:48:36.186402Z",
     "shell.execute_reply.started": "2021-08-11T04:26:48.416994Z"
    },
    "id": "yGgHQDSEgMzm",
    "papermill": {
     "duration": 0.08057,
     "end_time": "2021-08-11T05:48:36.186586",
     "exception": false,
     "start_time": "2021-08-11T05:48:36.106016",
     "status": "completed"
    },
    "tags": []
   },
   "outputs": [],
   "source": [
    "def missing_percent_of_column(train_set):\n",
    "    nan_percent = 100*(train_set.isnull().sum()/len(train_set))\n",
    "    nan_percent = nan_percent[nan_percent>0].sort_values(ascending=False).round(1)\n",
    "    DataFrame = pd.DataFrame(nan_percent)\n",
    "    # Rename the columns\n",
    "    mis_percent_table = DataFrame.rename(columns = {0 : '% of Misiing Values'}) \n",
    "    # Sort the table by percentage of missing descending\n",
    "    mis_percent = mis_percent_table\n",
    "    return mis_percent"
   ]
  },
  {
   "cell_type": "code",
   "execution_count": 15,
   "id": "222c537b",
   "metadata": {
    "execution": {
     "iopub.execute_input": "2021-08-11T05:48:36.330986Z",
     "iopub.status.busy": "2021-08-11T05:48:36.330377Z",
     "iopub.status.idle": "2021-08-11T05:48:36.350796Z",
     "shell.execute_reply": "2021-08-11T05:48:36.351388Z",
     "shell.execute_reply.started": "2021-08-11T04:26:48.426015Z"
    },
    "id": "13ZI_EsDhD_b",
    "outputId": "b12598ac-dfb7-4c02-a165-96e56f741d31",
    "papermill": {
     "duration": 0.094394,
     "end_time": "2021-08-11T05:48:36.351558",
     "exception": false,
     "start_time": "2021-08-11T05:48:36.257164",
     "status": "completed"
    },
    "tags": []
   },
   "outputs": [
    {
     "data": {
      "text/html": [
       "<div>\n",
       "<style scoped>\n",
       "    .dataframe tbody tr th:only-of-type {\n",
       "        vertical-align: middle;\n",
       "    }\n",
       "\n",
       "    .dataframe tbody tr th {\n",
       "        vertical-align: top;\n",
       "    }\n",
       "\n",
       "    .dataframe thead th {\n",
       "        text-align: right;\n",
       "    }\n",
       "</style>\n",
       "<table border=\"1\" class=\"dataframe\">\n",
       "  <thead>\n",
       "    <tr style=\"text-align: right;\">\n",
       "      <th></th>\n",
       "      <th>% of Misiing Values</th>\n",
       "    </tr>\n",
       "  </thead>\n",
       "  <tbody>\n",
       "    <tr>\n",
       "      <th>PoolQC</th>\n",
       "      <td>99.5</td>\n",
       "    </tr>\n",
       "    <tr>\n",
       "      <th>MiscFeature</th>\n",
       "      <td>96.3</td>\n",
       "    </tr>\n",
       "    <tr>\n",
       "      <th>Alley</th>\n",
       "      <td>93.8</td>\n",
       "    </tr>\n",
       "    <tr>\n",
       "      <th>Fence</th>\n",
       "      <td>80.8</td>\n",
       "    </tr>\n",
       "    <tr>\n",
       "      <th>FireplaceQu</th>\n",
       "      <td>47.3</td>\n",
       "    </tr>\n",
       "    <tr>\n",
       "      <th>LotFrontage</th>\n",
       "      <td>17.7</td>\n",
       "    </tr>\n",
       "    <tr>\n",
       "      <th>GarageType</th>\n",
       "      <td>5.5</td>\n",
       "    </tr>\n",
       "    <tr>\n",
       "      <th>GarageYrBlt</th>\n",
       "      <td>5.5</td>\n",
       "    </tr>\n",
       "    <tr>\n",
       "      <th>GarageFinish</th>\n",
       "      <td>5.5</td>\n",
       "    </tr>\n",
       "    <tr>\n",
       "      <th>GarageQual</th>\n",
       "      <td>5.5</td>\n",
       "    </tr>\n",
       "    <tr>\n",
       "      <th>GarageCond</th>\n",
       "      <td>5.5</td>\n",
       "    </tr>\n",
       "    <tr>\n",
       "      <th>BsmtExposure</th>\n",
       "      <td>2.6</td>\n",
       "    </tr>\n",
       "    <tr>\n",
       "      <th>BsmtFinType2</th>\n",
       "      <td>2.6</td>\n",
       "    </tr>\n",
       "    <tr>\n",
       "      <th>BsmtFinType1</th>\n",
       "      <td>2.5</td>\n",
       "    </tr>\n",
       "    <tr>\n",
       "      <th>BsmtCond</th>\n",
       "      <td>2.5</td>\n",
       "    </tr>\n",
       "    <tr>\n",
       "      <th>BsmtQual</th>\n",
       "      <td>2.5</td>\n",
       "    </tr>\n",
       "    <tr>\n",
       "      <th>MasVnrArea</th>\n",
       "      <td>0.5</td>\n",
       "    </tr>\n",
       "    <tr>\n",
       "      <th>MasVnrType</th>\n",
       "      <td>0.5</td>\n",
       "    </tr>\n",
       "    <tr>\n",
       "      <th>Electrical</th>\n",
       "      <td>0.1</td>\n",
       "    </tr>\n",
       "  </tbody>\n",
       "</table>\n",
       "</div>"
      ],
      "text/plain": [
       "              % of Misiing Values\n",
       "PoolQC                       99.5\n",
       "MiscFeature                  96.3\n",
       "Alley                        93.8\n",
       "Fence                        80.8\n",
       "FireplaceQu                  47.3\n",
       "LotFrontage                  17.7\n",
       "GarageType                    5.5\n",
       "GarageYrBlt                   5.5\n",
       "GarageFinish                  5.5\n",
       "GarageQual                    5.5\n",
       "GarageCond                    5.5\n",
       "BsmtExposure                  2.6\n",
       "BsmtFinType2                  2.6\n",
       "BsmtFinType1                  2.5\n",
       "BsmtCond                      2.5\n",
       "BsmtQual                      2.5\n",
       "MasVnrArea                    0.5\n",
       "MasVnrType                    0.5\n",
       "Electrical                    0.1"
      ]
     },
     "execution_count": 15,
     "metadata": {},
     "output_type": "execute_result"
    }
   ],
   "source": [
    "miss = missing_percent_of_column(train_df)\n",
    "miss"
   ]
  },
  {
   "cell_type": "markdown",
   "id": "8dd4f38f",
   "metadata": {
    "papermill": {
     "duration": 0.071669,
     "end_time": "2021-08-11T05:48:36.493650",
     "exception": false,
     "start_time": "2021-08-11T05:48:36.421981",
     "status": "completed"
    },
    "tags": []
   },
   "source": [
    "First 4 rows have more than 80% data missing, & these 4 column will not have bigger impact on deciding sales price,its better to remove them."
   ]
  },
  {
   "cell_type": "code",
   "execution_count": 16,
   "id": "de2246e9",
   "metadata": {
    "execution": {
     "iopub.execute_input": "2021-08-11T05:48:36.640315Z",
     "iopub.status.busy": "2021-08-11T05:48:36.639638Z",
     "iopub.status.idle": "2021-08-11T05:48:36.645285Z",
     "shell.execute_reply": "2021-08-11T05:48:36.645832Z",
     "shell.execute_reply.started": "2021-08-11T04:26:48.444507Z"
    },
    "id": "3TG2rkoomk61",
    "papermill": {
     "duration": 0.080558,
     "end_time": "2021-08-11T05:48:36.645999",
     "exception": false,
     "start_time": "2021-08-11T05:48:36.565441",
     "status": "completed"
    },
    "tags": []
   },
   "outputs": [],
   "source": [
    "train_df = train_df.drop(['Id','Alley','PoolQC','MiscFeature','Fence'], axis=1)"
   ]
  },
  {
   "cell_type": "markdown",
   "id": "84466b70",
   "metadata": {
    "papermill": {
     "duration": 0.070185,
     "end_time": "2021-08-11T05:48:36.787004",
     "exception": false,
     "start_time": "2021-08-11T05:48:36.716819",
     "status": "completed"
    },
    "tags": []
   },
   "source": [
    "I have followed below approach for handling missing data,\n",
    "\n",
    "1. number column : Replace missing data with 0\n",
    "1. string column: Replace missing data with 'None'\n",
    "\n",
    "But I went with exception for below 3 columns,\n",
    "\n",
    "1. Electrical column : We have only one row missing, so I preferred to drop that row\n",
    "1. GarageYrBlt : I felt we can take median for this column\n",
    "1. MasVnrType: This column already value as None, so went ahead with Other"
   ]
  },
  {
   "cell_type": "code",
   "execution_count": 17,
   "id": "6765782d",
   "metadata": {
    "execution": {
     "iopub.execute_input": "2021-08-11T05:48:36.932269Z",
     "iopub.status.busy": "2021-08-11T05:48:36.931629Z",
     "iopub.status.idle": "2021-08-11T05:48:36.937215Z",
     "shell.execute_reply": "2021-08-11T05:48:36.937734Z",
     "shell.execute_reply.started": "2021-08-11T04:26:48.451052Z"
    },
    "id": "sUso_AgVFSSs",
    "outputId": "38971df3-f5f7-4655-9f72-b80e4fa382a4",
    "papermill": {
     "duration": 0.080071,
     "end_time": "2021-08-11T05:48:36.937902",
     "exception": false,
     "start_time": "2021-08-11T05:48:36.857831",
     "status": "completed"
    },
    "tags": []
   },
   "outputs": [
    {
     "data": {
      "text/plain": [
       "array([nan, 'TA', 'Gd', 'Fa', 'Ex', 'Po'], dtype=object)"
      ]
     },
     "execution_count": 17,
     "metadata": {},
     "output_type": "execute_result"
    }
   ],
   "source": [
    "train_df['FireplaceQu'].unique()"
   ]
  },
  {
   "cell_type": "code",
   "execution_count": 18,
   "id": "ec207559",
   "metadata": {
    "execution": {
     "iopub.execute_input": "2021-08-11T05:48:37.082978Z",
     "iopub.status.busy": "2021-08-11T05:48:37.082349Z",
     "iopub.status.idle": "2021-08-11T05:48:37.087204Z",
     "shell.execute_reply": "2021-08-11T05:48:37.087647Z",
     "shell.execute_reply.started": "2021-08-11T04:26:48.463353Z"
    },
    "id": "OyZbOQqPFou9",
    "papermill": {
     "duration": 0.078787,
     "end_time": "2021-08-11T05:48:37.087836",
     "exception": false,
     "start_time": "2021-08-11T05:48:37.009049",
     "status": "completed"
    },
    "tags": []
   },
   "outputs": [],
   "source": [
    "train_df['FireplaceQu']= train_df['FireplaceQu'].fillna('None')"
   ]
  },
  {
   "cell_type": "code",
   "execution_count": 19,
   "id": "dfdfdeeb",
   "metadata": {
    "execution": {
     "iopub.execute_input": "2021-08-11T05:48:37.233550Z",
     "iopub.status.busy": "2021-08-11T05:48:37.232866Z",
     "iopub.status.idle": "2021-08-11T05:48:37.239738Z",
     "shell.execute_reply": "2021-08-11T05:48:37.240222Z",
     "shell.execute_reply.started": "2021-08-11T04:26:48.472793Z"
    },
    "id": "_PXYkT3nFtxi",
    "outputId": "50d4a6da-9318-465e-8693-51092b774381",
    "papermill": {
     "duration": 0.081236,
     "end_time": "2021-08-11T05:48:37.240388",
     "exception": false,
     "start_time": "2021-08-11T05:48:37.159152",
     "status": "completed"
    },
    "tags": []
   },
   "outputs": [
    {
     "data": {
      "text/plain": [
       "array([ 65.,  80.,  68.,  60.,  84.,  85.,  75.,  nan,  51.,  50.,  70.,\n",
       "        91.,  72.,  66., 101.,  57.,  44., 110.,  98.,  47., 108., 112.,\n",
       "        74., 115.,  61.,  48.,  33.,  52., 100.,  24.,  89.,  63.,  76.,\n",
       "        81.,  95.,  69.,  21.,  32.,  78., 121., 122.,  40., 105.,  73.,\n",
       "        77.,  64.,  94.,  34.,  90.,  55.,  88.,  82.,  71., 120., 107.,\n",
       "        92., 134.,  62.,  86., 141.,  97.,  54.,  41.,  79., 174.,  99.,\n",
       "        67.,  83.,  43., 103.,  93.,  30., 129., 140.,  35.,  37., 118.,\n",
       "        87., 116., 150., 111.,  49.,  96.,  59.,  36.,  56., 102.,  58.,\n",
       "        38., 109., 130.,  53., 137.,  45., 106., 104.,  42.,  39., 144.,\n",
       "       114., 128., 149., 313., 168., 182., 138., 160., 152., 124., 153.,\n",
       "        46.])"
      ]
     },
     "execution_count": 19,
     "metadata": {},
     "output_type": "execute_result"
    }
   ],
   "source": [
    "train_df['LotFrontage'].unique()"
   ]
  },
  {
   "cell_type": "code",
   "execution_count": 20,
   "id": "989b24f1",
   "metadata": {
    "execution": {
     "iopub.execute_input": "2021-08-11T05:48:37.386498Z",
     "iopub.status.busy": "2021-08-11T05:48:37.385830Z",
     "iopub.status.idle": "2021-08-11T05:48:37.390729Z",
     "shell.execute_reply": "2021-08-11T05:48:37.391232Z",
     "shell.execute_reply.started": "2021-08-11T04:26:48.485649Z"
    },
    "id": "ZfCWe9X9F6GH",
    "papermill": {
     "duration": 0.079628,
     "end_time": "2021-08-11T05:48:37.391398",
     "exception": false,
     "start_time": "2021-08-11T05:48:37.311770",
     "status": "completed"
    },
    "tags": []
   },
   "outputs": [],
   "source": [
    "train_df['LotFrontage']= train_df['LotFrontage'].fillna(train_df['LotFrontage'].median())"
   ]
  },
  {
   "cell_type": "code",
   "execution_count": 21,
   "id": "e362c964",
   "metadata": {
    "execution": {
     "iopub.execute_input": "2021-08-11T05:48:37.539744Z",
     "iopub.status.busy": "2021-08-11T05:48:37.539091Z",
     "iopub.status.idle": "2021-08-11T05:48:37.544561Z",
     "shell.execute_reply": "2021-08-11T05:48:37.545056Z",
     "shell.execute_reply.started": "2021-08-11T04:26:48.495300Z"
    },
    "id": "Jj6sl6R_GIen",
    "outputId": "9d61a819-d430-43ec-f8e2-f14e6e0ff5da",
    "papermill": {
     "duration": 0.082278,
     "end_time": "2021-08-11T05:48:37.545253",
     "exception": false,
     "start_time": "2021-08-11T05:48:37.462975",
     "status": "completed"
    },
    "tags": []
   },
   "outputs": [
    {
     "data": {
      "text/plain": [
       "array(['TA', 'Fa', nan, 'Gd', 'Po', 'Ex'], dtype=object)"
      ]
     },
     "execution_count": 21,
     "metadata": {},
     "output_type": "execute_result"
    }
   ],
   "source": [
    "train_df['GarageCond'].unique()"
   ]
  },
  {
   "cell_type": "code",
   "execution_count": 22,
   "id": "8560bd91",
   "metadata": {
    "execution": {
     "iopub.execute_input": "2021-08-11T05:48:37.694261Z",
     "iopub.status.busy": "2021-08-11T05:48:37.693585Z",
     "iopub.status.idle": "2021-08-11T05:48:37.697959Z",
     "shell.execute_reply": "2021-08-11T05:48:37.698519Z",
     "shell.execute_reply.started": "2021-08-11T04:26:48.507041Z"
    },
    "id": "UV1I1lVqGlia",
    "papermill": {
     "duration": 0.080299,
     "end_time": "2021-08-11T05:48:37.698743",
     "exception": false,
     "start_time": "2021-08-11T05:48:37.618444",
     "status": "completed"
    },
    "tags": []
   },
   "outputs": [],
   "source": [
    "train_df['GarageCond']= train_df['GarageCond'].fillna('None')"
   ]
  },
  {
   "cell_type": "code",
   "execution_count": 23,
   "id": "da837d35",
   "metadata": {
    "execution": {
     "iopub.execute_input": "2021-08-11T05:48:37.848854Z",
     "iopub.status.busy": "2021-08-11T05:48:37.848243Z",
     "iopub.status.idle": "2021-08-11T05:48:37.853482Z",
     "shell.execute_reply": "2021-08-11T05:48:37.853993Z",
     "shell.execute_reply.started": "2021-08-11T04:26:48.516926Z"
    },
    "id": "YgGRKkLeHLNe",
    "outputId": "c48e3f45-c028-41b7-ba8d-1572c6249f8a",
    "papermill": {
     "duration": 0.081357,
     "end_time": "2021-08-11T05:48:37.854172",
     "exception": false,
     "start_time": "2021-08-11T05:48:37.772815",
     "status": "completed"
    },
    "tags": []
   },
   "outputs": [
    {
     "data": {
      "text/plain": [
       "array(['TA', 'Fa', 'Gd', nan, 'Ex', 'Po'], dtype=object)"
      ]
     },
     "execution_count": 23,
     "metadata": {},
     "output_type": "execute_result"
    }
   ],
   "source": [
    "train_df['GarageQual'].unique()"
   ]
  },
  {
   "cell_type": "code",
   "execution_count": 24,
   "id": "d88f3df8",
   "metadata": {
    "execution": {
     "iopub.execute_input": "2021-08-11T05:48:38.004914Z",
     "iopub.status.busy": "2021-08-11T05:48:38.004200Z",
     "iopub.status.idle": "2021-08-11T05:48:38.008745Z",
     "shell.execute_reply": "2021-08-11T05:48:38.009274Z",
     "shell.execute_reply.started": "2021-08-11T04:26:48.529459Z"
    },
    "id": "TsR-oRUlHSe6",
    "papermill": {
     "duration": 0.081892,
     "end_time": "2021-08-11T05:48:38.009444",
     "exception": false,
     "start_time": "2021-08-11T05:48:37.927552",
     "status": "completed"
    },
    "tags": []
   },
   "outputs": [],
   "source": [
    "train_df['GarageQual']= train_df['GarageQual'].fillna('None')"
   ]
  },
  {
   "cell_type": "code",
   "execution_count": 25,
   "id": "314df2b1",
   "metadata": {
    "execution": {
     "iopub.execute_input": "2021-08-11T05:48:38.158785Z",
     "iopub.status.busy": "2021-08-11T05:48:38.158090Z",
     "iopub.status.idle": "2021-08-11T05:48:38.164111Z",
     "shell.execute_reply": "2021-08-11T05:48:38.164657Z",
     "shell.execute_reply.started": "2021-08-11T04:26:48.539169Z"
    },
    "id": "-KYCXmGyHYsY",
    "outputId": "712e4b4f-a0b9-4104-f898-90f5bf276e03",
    "papermill": {
     "duration": 0.082364,
     "end_time": "2021-08-11T05:48:38.164838",
     "exception": false,
     "start_time": "2021-08-11T05:48:38.082474",
     "status": "completed"
    },
    "tags": []
   },
   "outputs": [
    {
     "data": {
      "text/plain": [
       "array(['RFn', 'Unf', 'Fin', nan], dtype=object)"
      ]
     },
     "execution_count": 25,
     "metadata": {},
     "output_type": "execute_result"
    }
   ],
   "source": [
    "train_df['GarageFinish'].unique()"
   ]
  },
  {
   "cell_type": "code",
   "execution_count": 26,
   "id": "39971c4e",
   "metadata": {
    "execution": {
     "iopub.execute_input": "2021-08-11T05:48:38.316353Z",
     "iopub.status.busy": "2021-08-11T05:48:38.315590Z",
     "iopub.status.idle": "2021-08-11T05:48:38.318485Z",
     "shell.execute_reply": "2021-08-11T05:48:38.317999Z",
     "shell.execute_reply.started": "2021-08-11T04:26:48.550797Z"
    },
    "id": "G6ir6nwHHika",
    "papermill": {
     "duration": 0.080355,
     "end_time": "2021-08-11T05:48:38.318618",
     "exception": false,
     "start_time": "2021-08-11T05:48:38.238263",
     "status": "completed"
    },
    "tags": []
   },
   "outputs": [],
   "source": [
    "train_df['GarageFinish']= train_df['GarageFinish'].fillna('None')"
   ]
  },
  {
   "cell_type": "code",
   "execution_count": 27,
   "id": "19d4dbd9",
   "metadata": {
    "execution": {
     "iopub.execute_input": "2021-08-11T05:48:38.471438Z",
     "iopub.status.busy": "2021-08-11T05:48:38.470541Z",
     "iopub.status.idle": "2021-08-11T05:48:38.474100Z",
     "shell.execute_reply": "2021-08-11T05:48:38.474645Z",
     "shell.execute_reply.started": "2021-08-11T04:26:48.558761Z"
    },
    "id": "ujC2EvxwHonx",
    "outputId": "ed86339c-0773-4a93-8255-0ca55d60902e",
    "papermill": {
     "duration": 0.083702,
     "end_time": "2021-08-11T05:48:38.474834",
     "exception": false,
     "start_time": "2021-08-11T05:48:38.391132",
     "status": "completed"
    },
    "tags": []
   },
   "outputs": [
    {
     "data": {
      "text/plain": [
       "array([2003., 1976., 2001., 1998., 2000., 1993., 2004., 1973., 1931.,\n",
       "       1939., 1965., 2005., 1962., 2006., 1960., 1991., 1970., 1967.,\n",
       "       1958., 1930., 2002., 1968., 2007., 2008., 1957., 1920., 1966.,\n",
       "       1959., 1995., 1954., 1953.,   nan, 1983., 1977., 1997., 1985.,\n",
       "       1963., 1981., 1964., 1999., 1935., 1990., 1945., 1987., 1989.,\n",
       "       1915., 1956., 1948., 1974., 2009., 1950., 1961., 1921., 1900.,\n",
       "       1979., 1951., 1969., 1936., 1975., 1971., 1923., 1984., 1926.,\n",
       "       1955., 1986., 1988., 1916., 1932., 1972., 1918., 1980., 1924.,\n",
       "       1996., 1940., 1949., 1994., 1910., 1978., 1982., 1992., 1925.,\n",
       "       1941., 2010., 1927., 1947., 1937., 1942., 1938., 1952., 1928.,\n",
       "       1922., 1934., 1906., 1914., 1946., 1908., 1929., 1933.])"
      ]
     },
     "execution_count": 27,
     "metadata": {},
     "output_type": "execute_result"
    }
   ],
   "source": [
    "train_df['GarageYrBlt'].unique()"
   ]
  },
  {
   "cell_type": "code",
   "execution_count": 28,
   "id": "c0ad6b41",
   "metadata": {
    "execution": {
     "iopub.execute_input": "2021-08-11T05:48:38.628847Z",
     "iopub.status.busy": "2021-08-11T05:48:38.628217Z",
     "iopub.status.idle": "2021-08-11T05:48:38.631382Z",
     "shell.execute_reply": "2021-08-11T05:48:38.630811Z",
     "shell.execute_reply.started": "2021-08-11T04:26:48.571438Z"
    },
    "id": "M1SJMBHUJHNV",
    "papermill": {
     "duration": 0.082044,
     "end_time": "2021-08-11T05:48:38.631535",
     "exception": false,
     "start_time": "2021-08-11T05:48:38.549491",
     "status": "completed"
    },
    "tags": []
   },
   "outputs": [],
   "source": [
    "train_df['GarageYrBlt']= train_df['GarageYrBlt'].fillna(train_df['GarageYrBlt'].median())"
   ]
  },
  {
   "cell_type": "code",
   "execution_count": 29,
   "id": "979d39ad",
   "metadata": {
    "execution": {
     "iopub.execute_input": "2021-08-11T05:48:38.785849Z",
     "iopub.status.busy": "2021-08-11T05:48:38.784690Z",
     "iopub.status.idle": "2021-08-11T05:48:38.789623Z",
     "shell.execute_reply": "2021-08-11T05:48:38.789070Z",
     "shell.execute_reply.started": "2021-08-11T04:26:48.578156Z"
    },
    "id": "xN6k5LyMJrYC",
    "outputId": "0fcc3d58-c834-4747-8986-4ca3feef4912",
    "papermill": {
     "duration": 0.085016,
     "end_time": "2021-08-11T05:48:38.789766",
     "exception": false,
     "start_time": "2021-08-11T05:48:38.704750",
     "status": "completed"
    },
    "tags": []
   },
   "outputs": [
    {
     "data": {
      "text/plain": [
       "array(['Attchd', 'Detchd', 'BuiltIn', 'CarPort', nan, 'Basment', '2Types'],\n",
       "      dtype=object)"
      ]
     },
     "execution_count": 29,
     "metadata": {},
     "output_type": "execute_result"
    }
   ],
   "source": [
    "train_df['GarageType'].unique()"
   ]
  },
  {
   "cell_type": "code",
   "execution_count": 30,
   "id": "830c0628",
   "metadata": {
    "execution": {
     "iopub.execute_input": "2021-08-11T05:48:38.943514Z",
     "iopub.status.busy": "2021-08-11T05:48:38.942837Z",
     "iopub.status.idle": "2021-08-11T05:48:38.944774Z",
     "shell.execute_reply": "2021-08-11T05:48:38.945263Z",
     "shell.execute_reply.started": "2021-08-11T04:26:48.591802Z"
    },
    "id": "NkzvOzK7JyyS",
    "papermill": {
     "duration": 0.081592,
     "end_time": "2021-08-11T05:48:38.945438",
     "exception": false,
     "start_time": "2021-08-11T05:48:38.863846",
     "status": "completed"
    },
    "tags": []
   },
   "outputs": [],
   "source": [
    "train_df['GarageType']= train_df['GarageType'].fillna('None')"
   ]
  },
  {
   "cell_type": "code",
   "execution_count": 31,
   "id": "214c0f56",
   "metadata": {
    "execution": {
     "iopub.execute_input": "2021-08-11T05:48:39.094750Z",
     "iopub.status.busy": "2021-08-11T05:48:39.094132Z",
     "iopub.status.idle": "2021-08-11T05:48:39.101524Z",
     "shell.execute_reply": "2021-08-11T05:48:39.100850Z",
     "shell.execute_reply.started": "2021-08-11T04:26:48.603299Z"
    },
    "id": "VT3PlftXJ8xV",
    "outputId": "4c866865-2e59-45f2-f207-87463ec8175b",
    "papermill": {
     "duration": 0.083007,
     "end_time": "2021-08-11T05:48:39.101681",
     "exception": false,
     "start_time": "2021-08-11T05:48:39.018674",
     "status": "completed"
    },
    "tags": []
   },
   "outputs": [
    {
     "data": {
      "text/plain": [
       "array(['Unf', 'BLQ', nan, 'ALQ', 'Rec', 'LwQ', 'GLQ'], dtype=object)"
      ]
     },
     "execution_count": 31,
     "metadata": {},
     "output_type": "execute_result"
    }
   ],
   "source": [
    "train_df['BsmtFinType2'].unique()"
   ]
  },
  {
   "cell_type": "code",
   "execution_count": 32,
   "id": "d7b4e1b0",
   "metadata": {
    "execution": {
     "iopub.execute_input": "2021-08-11T05:48:39.260182Z",
     "iopub.status.busy": "2021-08-11T05:48:39.257608Z",
     "iopub.status.idle": "2021-08-11T05:48:39.263372Z",
     "shell.execute_reply": "2021-08-11T05:48:39.263877Z",
     "shell.execute_reply.started": "2021-08-11T04:26:48.615177Z"
    },
    "id": "2ekRp1jmTV4Y",
    "papermill": {
     "duration": 0.084212,
     "end_time": "2021-08-11T05:48:39.264047",
     "exception": false,
     "start_time": "2021-08-11T05:48:39.179835",
     "status": "completed"
    },
    "tags": []
   },
   "outputs": [],
   "source": [
    "train_df['BsmtFinType2']= train_df['BsmtFinType2'].fillna('None')"
   ]
  },
  {
   "cell_type": "code",
   "execution_count": 33,
   "id": "d02f7f72",
   "metadata": {
    "execution": {
     "iopub.execute_input": "2021-08-11T05:48:39.416112Z",
     "iopub.status.busy": "2021-08-11T05:48:39.415185Z",
     "iopub.status.idle": "2021-08-11T05:48:39.421260Z",
     "shell.execute_reply": "2021-08-11T05:48:39.421743Z",
     "shell.execute_reply.started": "2021-08-11T04:26:48.624351Z"
    },
    "id": "hcEEK35lTaLY",
    "outputId": "39884e01-c14c-4b18-9fb0-b06d24bf11eb",
    "papermill": {
     "duration": 0.083355,
     "end_time": "2021-08-11T05:48:39.421899",
     "exception": false,
     "start_time": "2021-08-11T05:48:39.338544",
     "status": "completed"
    },
    "tags": []
   },
   "outputs": [
    {
     "data": {
      "text/plain": [
       "array(['No', 'Gd', 'Mn', 'Av', nan], dtype=object)"
      ]
     },
     "execution_count": 33,
     "metadata": {},
     "output_type": "execute_result"
    }
   ],
   "source": [
    "train_df['BsmtExposure'].unique()"
   ]
  },
  {
   "cell_type": "code",
   "execution_count": 34,
   "id": "ea5756e9",
   "metadata": {
    "execution": {
     "iopub.execute_input": "2021-08-11T05:48:39.574597Z",
     "iopub.status.busy": "2021-08-11T05:48:39.573620Z",
     "iopub.status.idle": "2021-08-11T05:48:39.578632Z",
     "shell.execute_reply": "2021-08-11T05:48:39.579183Z",
     "shell.execute_reply.started": "2021-08-11T04:26:48.635356Z"
    },
    "id": "6MQ4y8TkTg2n",
    "papermill": {
     "duration": 0.083597,
     "end_time": "2021-08-11T05:48:39.579350",
     "exception": false,
     "start_time": "2021-08-11T05:48:39.495753",
     "status": "completed"
    },
    "tags": []
   },
   "outputs": [],
   "source": [
    "train_df['BsmtExposure']= train_df['BsmtExposure'].fillna('None')"
   ]
  },
  {
   "cell_type": "code",
   "execution_count": 35,
   "id": "206eee64",
   "metadata": {
    "execution": {
     "iopub.execute_input": "2021-08-11T05:48:39.730922Z",
     "iopub.status.busy": "2021-08-11T05:48:39.729982Z",
     "iopub.status.idle": "2021-08-11T05:48:39.735982Z",
     "shell.execute_reply": "2021-08-11T05:48:39.736478Z",
     "shell.execute_reply.started": "2021-08-11T04:26:48.644578Z"
    },
    "id": "WxlVFt49TqNe",
    "outputId": "c90b5c90-ae1c-4b6d-85e1-b285c0a8e536",
    "papermill": {
     "duration": 0.08386,
     "end_time": "2021-08-11T05:48:39.736641",
     "exception": false,
     "start_time": "2021-08-11T05:48:39.652781",
     "status": "completed"
    },
    "tags": []
   },
   "outputs": [
    {
     "data": {
      "text/plain": [
       "array(['GLQ', 'ALQ', 'Unf', 'Rec', 'BLQ', nan, 'LwQ'], dtype=object)"
      ]
     },
     "execution_count": 35,
     "metadata": {},
     "output_type": "execute_result"
    }
   ],
   "source": [
    "train_df['BsmtFinType1'].unique()"
   ]
  },
  {
   "cell_type": "code",
   "execution_count": 36,
   "id": "408f7f46",
   "metadata": {
    "execution": {
     "iopub.execute_input": "2021-08-11T05:48:39.890684Z",
     "iopub.status.busy": "2021-08-11T05:48:39.889675Z",
     "iopub.status.idle": "2021-08-11T05:48:39.894553Z",
     "shell.execute_reply": "2021-08-11T05:48:39.895040Z",
     "shell.execute_reply.started": "2021-08-11T04:26:48.655750Z"
    },
    "id": "6PaoFo4mT1Yr",
    "papermill": {
     "duration": 0.083288,
     "end_time": "2021-08-11T05:48:39.895223",
     "exception": false,
     "start_time": "2021-08-11T05:48:39.811935",
     "status": "completed"
    },
    "tags": []
   },
   "outputs": [],
   "source": [
    "train_df['BsmtFinType1']= train_df['BsmtFinType1'].fillna('None')"
   ]
  },
  {
   "cell_type": "code",
   "execution_count": 37,
   "id": "cf39c94c",
   "metadata": {
    "execution": {
     "iopub.execute_input": "2021-08-11T05:48:40.048171Z",
     "iopub.status.busy": "2021-08-11T05:48:40.047153Z",
     "iopub.status.idle": "2021-08-11T05:48:40.053144Z",
     "shell.execute_reply": "2021-08-11T05:48:40.053583Z",
     "shell.execute_reply.started": "2021-08-11T04:26:48.664862Z"
    },
    "id": "4eXVFO_WT-CQ",
    "outputId": "588e6963-497b-4a96-99f5-7f18ac57025a",
    "papermill": {
     "duration": 0.084284,
     "end_time": "2021-08-11T05:48:40.053751",
     "exception": false,
     "start_time": "2021-08-11T05:48:39.969467",
     "status": "completed"
    },
    "tags": []
   },
   "outputs": [
    {
     "data": {
      "text/plain": [
       "array(['TA', 'Gd', nan, 'Fa', 'Po'], dtype=object)"
      ]
     },
     "execution_count": 37,
     "metadata": {},
     "output_type": "execute_result"
    }
   ],
   "source": [
    "train_df['BsmtCond'].unique()"
   ]
  },
  {
   "cell_type": "code",
   "execution_count": 38,
   "id": "aa4be015",
   "metadata": {
    "execution": {
     "iopub.execute_input": "2021-08-11T05:48:40.208659Z",
     "iopub.status.busy": "2021-08-11T05:48:40.207918Z",
     "iopub.status.idle": "2021-08-11T05:48:40.210413Z",
     "shell.execute_reply": "2021-08-11T05:48:40.210925Z",
     "shell.execute_reply.started": "2021-08-11T04:26:48.679496Z"
    },
    "id": "ts2706MEUOqk",
    "papermill": {
     "duration": 0.083258,
     "end_time": "2021-08-11T05:48:40.211100",
     "exception": false,
     "start_time": "2021-08-11T05:48:40.127842",
     "status": "completed"
    },
    "tags": []
   },
   "outputs": [],
   "source": [
    "train_df['BsmtCond']= train_df['BsmtCond'].fillna('None')"
   ]
  },
  {
   "cell_type": "code",
   "execution_count": 39,
   "id": "ab52e686",
   "metadata": {
    "execution": {
     "iopub.execute_input": "2021-08-11T05:48:40.362027Z",
     "iopub.status.busy": "2021-08-11T05:48:40.361418Z",
     "iopub.status.idle": "2021-08-11T05:48:40.367075Z",
     "shell.execute_reply": "2021-08-11T05:48:40.367680Z",
     "shell.execute_reply.started": "2021-08-11T04:26:48.687672Z"
    },
    "id": "n6C87h4TUaeY",
    "outputId": "3eff1762-2675-493c-9b35-2de4d841a60a",
    "papermill": {
     "duration": 0.082739,
     "end_time": "2021-08-11T05:48:40.367844",
     "exception": false,
     "start_time": "2021-08-11T05:48:40.285105",
     "status": "completed"
    },
    "tags": []
   },
   "outputs": [
    {
     "data": {
      "text/plain": [
       "array(['Gd', 'TA', 'Ex', nan, 'Fa'], dtype=object)"
      ]
     },
     "execution_count": 39,
     "metadata": {},
     "output_type": "execute_result"
    }
   ],
   "source": [
    "train_df['BsmtQual'].unique()"
   ]
  },
  {
   "cell_type": "code",
   "execution_count": 40,
   "id": "ea5c216c",
   "metadata": {
    "execution": {
     "iopub.execute_input": "2021-08-11T05:48:40.518414Z",
     "iopub.status.busy": "2021-08-11T05:48:40.517813Z",
     "iopub.status.idle": "2021-08-11T05:48:40.522466Z",
     "shell.execute_reply": "2021-08-11T05:48:40.523022Z",
     "shell.execute_reply.started": "2021-08-11T04:26:48.698094Z"
    },
    "id": "8Sw5wfk5UqmH",
    "papermill": {
     "duration": 0.081302,
     "end_time": "2021-08-11T05:48:40.523208",
     "exception": false,
     "start_time": "2021-08-11T05:48:40.441906",
     "status": "completed"
    },
    "tags": []
   },
   "outputs": [],
   "source": [
    "train_df['BsmtQual']= train_df['BsmtQual'].fillna('None')"
   ]
  },
  {
   "cell_type": "code",
   "execution_count": 41,
   "id": "55d7d4a4",
   "metadata": {
    "execution": {
     "iopub.execute_input": "2021-08-11T05:48:40.677515Z",
     "iopub.status.busy": "2021-08-11T05:48:40.676835Z",
     "iopub.status.idle": "2021-08-11T05:48:40.687367Z",
     "shell.execute_reply": "2021-08-11T05:48:40.686818Z",
     "shell.execute_reply.started": "2021-08-11T04:26:48.707558Z"
    },
    "id": "5ro3mUdVU1kW",
    "outputId": "32c2b3e2-0ab5-4a27-b47e-f3e019ac0c25",
    "papermill": {
     "duration": 0.088548,
     "end_time": "2021-08-11T05:48:40.687508",
     "exception": false,
     "start_time": "2021-08-11T05:48:40.598960",
     "status": "completed"
    },
    "tags": []
   },
   "outputs": [
    {
     "data": {
      "text/plain": [
       "array([1.960e+02, 0.000e+00, 1.620e+02, 3.500e+02, 1.860e+02, 2.400e+02,\n",
       "       2.860e+02, 3.060e+02, 2.120e+02, 1.800e+02, 3.800e+02, 2.810e+02,\n",
       "       6.400e+02, 2.000e+02, 2.460e+02, 1.320e+02, 6.500e+02, 1.010e+02,\n",
       "       4.120e+02, 2.720e+02, 4.560e+02, 1.031e+03, 1.780e+02, 5.730e+02,\n",
       "       3.440e+02, 2.870e+02, 1.670e+02, 1.115e+03, 4.000e+01, 1.040e+02,\n",
       "       5.760e+02, 4.430e+02, 4.680e+02, 6.600e+01, 2.200e+01, 2.840e+02,\n",
       "       7.600e+01, 2.030e+02, 6.800e+01, 1.830e+02, 4.800e+01, 2.800e+01,\n",
       "       3.360e+02, 6.000e+02, 7.680e+02, 4.800e+02, 2.200e+02, 1.840e+02,\n",
       "       1.129e+03, 1.160e+02, 1.350e+02, 2.660e+02, 8.500e+01, 3.090e+02,\n",
       "       1.360e+02, 2.880e+02, 7.000e+01, 3.200e+02, 5.000e+01, 1.200e+02,\n",
       "       4.360e+02, 2.520e+02, 8.400e+01, 6.640e+02, 2.260e+02, 3.000e+02,\n",
       "       6.530e+02, 1.120e+02, 4.910e+02, 2.680e+02, 7.480e+02, 9.800e+01,\n",
       "       2.750e+02, 1.380e+02, 2.050e+02, 2.620e+02, 1.280e+02, 2.600e+02,\n",
       "       1.530e+02, 6.400e+01, 3.120e+02, 1.600e+01, 9.220e+02, 1.420e+02,\n",
       "       2.900e+02, 1.270e+02, 5.060e+02, 2.970e+02,       nan, 6.040e+02,\n",
       "       2.540e+02, 3.600e+01, 1.020e+02, 4.720e+02, 4.810e+02, 1.080e+02,\n",
       "       3.020e+02, 1.720e+02, 3.990e+02, 2.700e+02, 4.600e+01, 2.100e+02,\n",
       "       1.740e+02, 3.480e+02, 3.150e+02, 2.990e+02, 3.400e+02, 1.660e+02,\n",
       "       7.200e+01, 3.100e+01, 3.400e+01, 2.380e+02, 1.600e+03, 3.650e+02,\n",
       "       5.600e+01, 1.500e+02, 2.780e+02, 2.560e+02, 2.250e+02, 3.700e+02,\n",
       "       3.880e+02, 1.750e+02, 2.960e+02, 1.460e+02, 1.130e+02, 1.760e+02,\n",
       "       6.160e+02, 3.000e+01, 1.060e+02, 8.700e+02, 3.620e+02, 5.300e+02,\n",
       "       5.000e+02, 5.100e+02, 2.470e+02, 3.050e+02, 2.550e+02, 1.250e+02,\n",
       "       1.000e+02, 4.320e+02, 1.260e+02, 4.730e+02, 7.400e+01, 1.450e+02,\n",
       "       2.320e+02, 3.760e+02, 4.200e+01, 1.610e+02, 1.100e+02, 1.800e+01,\n",
       "       2.240e+02, 2.480e+02, 8.000e+01, 3.040e+02, 2.150e+02, 7.720e+02,\n",
       "       4.350e+02, 3.780e+02, 5.620e+02, 1.680e+02, 8.900e+01, 2.850e+02,\n",
       "       3.600e+02, 9.400e+01, 3.330e+02, 9.210e+02, 7.620e+02, 5.940e+02,\n",
       "       2.190e+02, 1.880e+02, 4.790e+02, 5.840e+02, 1.820e+02, 2.500e+02,\n",
       "       2.920e+02, 2.450e+02, 2.070e+02, 8.200e+01, 9.700e+01, 3.350e+02,\n",
       "       2.080e+02, 4.200e+02, 1.700e+02, 4.590e+02, 2.800e+02, 9.900e+01,\n",
       "       1.920e+02, 2.040e+02, 2.330e+02, 1.560e+02, 4.520e+02, 5.130e+02,\n",
       "       2.610e+02, 1.640e+02, 2.590e+02, 2.090e+02, 2.630e+02, 2.160e+02,\n",
       "       3.510e+02, 6.600e+02, 3.810e+02, 5.400e+01, 5.280e+02, 2.580e+02,\n",
       "       4.640e+02, 5.700e+01, 1.470e+02, 1.170e+03, 2.930e+02, 6.300e+02,\n",
       "       4.660e+02, 1.090e+02, 4.100e+01, 1.600e+02, 2.890e+02, 6.510e+02,\n",
       "       1.690e+02, 9.500e+01, 4.420e+02, 2.020e+02, 3.380e+02, 8.940e+02,\n",
       "       3.280e+02, 6.730e+02, 6.030e+02, 1.000e+00, 3.750e+02, 9.000e+01,\n",
       "       3.800e+01, 1.570e+02, 1.100e+01, 1.400e+02, 1.300e+02, 1.480e+02,\n",
       "       8.600e+02, 4.240e+02, 1.047e+03, 2.430e+02, 8.160e+02, 3.870e+02,\n",
       "       2.230e+02, 1.580e+02, 1.370e+02, 1.150e+02, 1.890e+02, 2.740e+02,\n",
       "       1.170e+02, 6.000e+01, 1.220e+02, 9.200e+01, 4.150e+02, 7.600e+02,\n",
       "       2.700e+01, 7.500e+01, 3.610e+02, 1.050e+02, 3.420e+02, 2.980e+02,\n",
       "       5.410e+02, 2.360e+02, 1.440e+02, 4.230e+02, 4.400e+01, 1.510e+02,\n",
       "       9.750e+02, 4.500e+02, 2.300e+02, 5.710e+02, 2.400e+01, 5.300e+01,\n",
       "       2.060e+02, 1.400e+01, 3.240e+02, 2.950e+02, 3.960e+02, 6.700e+01,\n",
       "       1.540e+02, 4.250e+02, 4.500e+01, 1.378e+03, 3.370e+02, 1.490e+02,\n",
       "       1.430e+02, 5.100e+01, 1.710e+02, 2.340e+02, 6.300e+01, 7.660e+02,\n",
       "       3.200e+01, 8.100e+01, 1.630e+02, 5.540e+02, 2.180e+02, 6.320e+02,\n",
       "       1.140e+02, 5.670e+02, 3.590e+02, 4.510e+02, 6.210e+02, 7.880e+02,\n",
       "       8.600e+01, 7.960e+02, 3.910e+02, 2.280e+02, 8.800e+01, 1.650e+02,\n",
       "       4.280e+02, 4.100e+02, 5.640e+02, 3.680e+02, 3.180e+02, 5.790e+02,\n",
       "       6.500e+01, 7.050e+02, 4.080e+02, 2.440e+02, 1.230e+02, 3.660e+02,\n",
       "       7.310e+02, 4.480e+02, 2.940e+02, 3.100e+02, 2.370e+02, 4.260e+02,\n",
       "       9.600e+01, 4.380e+02, 1.940e+02, 1.190e+02])"
      ]
     },
     "execution_count": 41,
     "metadata": {},
     "output_type": "execute_result"
    }
   ],
   "source": [
    "train_df['MasVnrArea'].unique()"
   ]
  },
  {
   "cell_type": "code",
   "execution_count": 42,
   "id": "1c9bf66d",
   "metadata": {
    "execution": {
     "iopub.execute_input": "2021-08-11T05:48:40.843238Z",
     "iopub.status.busy": "2021-08-11T05:48:40.842174Z",
     "iopub.status.idle": "2021-08-11T05:48:40.844564Z",
     "shell.execute_reply": "2021-08-11T05:48:40.845039Z",
     "shell.execute_reply.started": "2021-08-11T04:26:48.721899Z"
    },
    "id": "xvlSSv4VVRD0",
    "papermill": {
     "duration": 0.082621,
     "end_time": "2021-08-11T05:48:40.845236",
     "exception": false,
     "start_time": "2021-08-11T05:48:40.762615",
     "status": "completed"
    },
    "tags": []
   },
   "outputs": [],
   "source": [
    "train_df['MasVnrArea']= train_df['MasVnrArea'].fillna(0)"
   ]
  },
  {
   "cell_type": "code",
   "execution_count": 43,
   "id": "ea9953cf",
   "metadata": {
    "execution": {
     "iopub.execute_input": "2021-08-11T05:48:41.001139Z",
     "iopub.status.busy": "2021-08-11T05:48:41.000197Z",
     "iopub.status.idle": "2021-08-11T05:48:41.006302Z",
     "shell.execute_reply": "2021-08-11T05:48:41.006738Z",
     "shell.execute_reply.started": "2021-08-11T04:26:48.730936Z"
    },
    "id": "ldLtkWCWVUqw",
    "outputId": "ad4b2be5-4248-496c-9014-4e23200affaa",
    "papermill": {
     "duration": 0.085958,
     "end_time": "2021-08-11T05:48:41.006907",
     "exception": false,
     "start_time": "2021-08-11T05:48:40.920949",
     "status": "completed"
    },
    "tags": []
   },
   "outputs": [
    {
     "data": {
      "text/plain": [
       "array(['BrkFace', 'None', 'Stone', 'BrkCmn', nan], dtype=object)"
      ]
     },
     "execution_count": 43,
     "metadata": {},
     "output_type": "execute_result"
    }
   ],
   "source": [
    "train_df['MasVnrType'].unique()"
   ]
  },
  {
   "cell_type": "code",
   "execution_count": 44,
   "id": "0ae65e62",
   "metadata": {
    "execution": {
     "iopub.execute_input": "2021-08-11T05:48:41.165374Z",
     "iopub.status.busy": "2021-08-11T05:48:41.164406Z",
     "iopub.status.idle": "2021-08-11T05:48:41.169382Z",
     "shell.execute_reply": "2021-08-11T05:48:41.169816Z",
     "shell.execute_reply.started": "2021-08-11T04:26:48.743272Z"
    },
    "id": "eq6ZP5v3V87I",
    "papermill": {
     "duration": 0.084315,
     "end_time": "2021-08-11T05:48:41.169984",
     "exception": false,
     "start_time": "2021-08-11T05:48:41.085669",
     "status": "completed"
    },
    "tags": []
   },
   "outputs": [],
   "source": [
    "train_df['MasVnrType']= train_df['MasVnrType'].fillna('Other')"
   ]
  },
  {
   "cell_type": "code",
   "execution_count": 45,
   "id": "47df7956",
   "metadata": {
    "execution": {
     "iopub.execute_input": "2021-08-11T05:48:41.325350Z",
     "iopub.status.busy": "2021-08-11T05:48:41.324412Z",
     "iopub.status.idle": "2021-08-11T05:48:41.331590Z",
     "shell.execute_reply": "2021-08-11T05:48:41.332060Z",
     "shell.execute_reply.started": "2021-08-11T04:26:48.754050Z"
    },
    "id": "wx4Z8y6gWEMB",
    "papermill": {
     "duration": 0.08544,
     "end_time": "2021-08-11T05:48:41.332235",
     "exception": false,
     "start_time": "2021-08-11T05:48:41.246795",
     "status": "completed"
    },
    "tags": []
   },
   "outputs": [],
   "source": [
    "train_df= train_df.dropna(axis=0, subset=['Electrical'])"
   ]
  },
  {
   "cell_type": "markdown",
   "id": "61c27b27",
   "metadata": {
    "papermill": {
     "duration": 0.074871,
     "end_time": "2021-08-11T05:48:41.482349",
     "exception": false,
     "start_time": "2021-08-11T05:48:41.407478",
     "status": "completed"
    },
    "tags": []
   },
   "source": [
    "# Handle outliers"
   ]
  },
  {
   "cell_type": "markdown",
   "id": "8e80605b",
   "metadata": {
    "papermill": {
     "duration": 0.077007,
     "end_time": "2021-08-11T05:48:41.634606",
     "exception": false,
     "start_time": "2021-08-11T05:48:41.557599",
     "status": "completed"
    },
    "tags": []
   },
   "source": [
    "In above graph where we have compared price with column 'GrLivArea', we did see few outlier values. We can remove those values to ensure those entries are not impacting our model."
   ]
  },
  {
   "cell_type": "code",
   "execution_count": 46,
   "id": "ae56c02a",
   "metadata": {
    "execution": {
     "iopub.execute_input": "2021-08-11T05:48:41.791841Z",
     "iopub.status.busy": "2021-08-11T05:48:41.790826Z",
     "iopub.status.idle": "2021-08-11T05:48:41.798698Z",
     "shell.execute_reply": "2021-08-11T05:48:41.799167Z",
     "shell.execute_reply.started": "2021-08-11T04:26:48.766626Z"
    },
    "papermill": {
     "duration": 0.087712,
     "end_time": "2021-08-11T05:48:41.799343",
     "exception": false,
     "start_time": "2021-08-11T05:48:41.711631",
     "status": "completed"
    },
    "tags": []
   },
   "outputs": [],
   "source": [
    "#Deleting outliers\n",
    "train_df = train_df.drop(train_df[(train_df['GrLivArea']>4000) & (train_df['SalePrice']<300000)].index)"
   ]
  },
  {
   "cell_type": "markdown",
   "id": "53e60d14",
   "metadata": {
    "id": "InkvCb36M6ls",
    "papermill": {
     "duration": 0.075988,
     "end_time": "2021-08-11T05:48:41.951088",
     "exception": false,
     "start_time": "2021-08-11T05:48:41.875100",
     "status": "completed"
    },
    "tags": []
   },
   "source": [
    "# Converting to number"
   ]
  },
  {
   "cell_type": "code",
   "execution_count": 47,
   "id": "6e984002",
   "metadata": {
    "execution": {
     "iopub.execute_input": "2021-08-11T05:48:42.106417Z",
     "iopub.status.busy": "2021-08-11T05:48:42.105389Z",
     "iopub.status.idle": "2021-08-11T05:48:42.137726Z",
     "shell.execute_reply": "2021-08-11T05:48:42.138217Z",
     "shell.execute_reply.started": "2021-08-11T04:26:48.786426Z"
    },
    "id": "BFmoTdIQXRBh",
    "papermill": {
     "duration": 0.112121,
     "end_time": "2021-08-11T05:48:42.138399",
     "exception": false,
     "start_time": "2021-08-11T05:48:42.026278",
     "status": "completed"
    },
    "tags": []
   },
   "outputs": [],
   "source": [
    "# Converting:\n",
    "train_df= train_df.apply(lambda x: pd.factorize(x)[0])"
   ]
  },
  {
   "cell_type": "markdown",
   "id": "1e02504b",
   "metadata": {
    "id": "xg9ZzOTVOZs1",
    "papermill": {
     "duration": 0.084089,
     "end_time": "2021-08-11T05:48:42.297634",
     "exception": false,
     "start_time": "2021-08-11T05:48:42.213545",
     "status": "completed"
    },
    "tags": []
   },
   "source": [
    "# Test"
   ]
  },
  {
   "cell_type": "code",
   "execution_count": 48,
   "id": "0fce7693",
   "metadata": {
    "execution": {
     "iopub.execute_input": "2021-08-11T05:48:42.465533Z",
     "iopub.status.busy": "2021-08-11T05:48:42.464590Z",
     "iopub.status.idle": "2021-08-11T05:48:42.527470Z",
     "shell.execute_reply": "2021-08-11T05:48:42.527971Z",
     "shell.execute_reply.started": "2021-08-11T04:26:48.820446Z"
    },
    "id": "ho8ttdh6uK90",
    "outputId": "34d12fab-d786-4645-b0a7-80f7a1033437",
    "papermill": {
     "duration": 0.141649,
     "end_time": "2021-08-11T05:48:42.528160",
     "exception": false,
     "start_time": "2021-08-11T05:48:42.386511",
     "status": "completed"
    },
    "tags": []
   },
   "outputs": [
    {
     "data": {
      "text/html": [
       "<div>\n",
       "<style scoped>\n",
       "    .dataframe tbody tr th:only-of-type {\n",
       "        vertical-align: middle;\n",
       "    }\n",
       "\n",
       "    .dataframe tbody tr th {\n",
       "        vertical-align: top;\n",
       "    }\n",
       "\n",
       "    .dataframe thead th {\n",
       "        text-align: right;\n",
       "    }\n",
       "</style>\n",
       "<table border=\"1\" class=\"dataframe\">\n",
       "  <thead>\n",
       "    <tr style=\"text-align: right;\">\n",
       "      <th></th>\n",
       "      <th>Id</th>\n",
       "      <th>MSSubClass</th>\n",
       "      <th>MSZoning</th>\n",
       "      <th>LotFrontage</th>\n",
       "      <th>LotArea</th>\n",
       "      <th>Street</th>\n",
       "      <th>Alley</th>\n",
       "      <th>LotShape</th>\n",
       "      <th>LandContour</th>\n",
       "      <th>Utilities</th>\n",
       "      <th>...</th>\n",
       "      <th>ScreenPorch</th>\n",
       "      <th>PoolArea</th>\n",
       "      <th>PoolQC</th>\n",
       "      <th>Fence</th>\n",
       "      <th>MiscFeature</th>\n",
       "      <th>MiscVal</th>\n",
       "      <th>MoSold</th>\n",
       "      <th>YrSold</th>\n",
       "      <th>SaleType</th>\n",
       "      <th>SaleCondition</th>\n",
       "    </tr>\n",
       "  </thead>\n",
       "  <tbody>\n",
       "    <tr>\n",
       "      <th>0</th>\n",
       "      <td>1461</td>\n",
       "      <td>20</td>\n",
       "      <td>RH</td>\n",
       "      <td>80.0</td>\n",
       "      <td>11622</td>\n",
       "      <td>Pave</td>\n",
       "      <td>NaN</td>\n",
       "      <td>Reg</td>\n",
       "      <td>Lvl</td>\n",
       "      <td>AllPub</td>\n",
       "      <td>...</td>\n",
       "      <td>120</td>\n",
       "      <td>0</td>\n",
       "      <td>NaN</td>\n",
       "      <td>MnPrv</td>\n",
       "      <td>NaN</td>\n",
       "      <td>0</td>\n",
       "      <td>6</td>\n",
       "      <td>2010</td>\n",
       "      <td>WD</td>\n",
       "      <td>Normal</td>\n",
       "    </tr>\n",
       "    <tr>\n",
       "      <th>1</th>\n",
       "      <td>1462</td>\n",
       "      <td>20</td>\n",
       "      <td>RL</td>\n",
       "      <td>81.0</td>\n",
       "      <td>14267</td>\n",
       "      <td>Pave</td>\n",
       "      <td>NaN</td>\n",
       "      <td>IR1</td>\n",
       "      <td>Lvl</td>\n",
       "      <td>AllPub</td>\n",
       "      <td>...</td>\n",
       "      <td>0</td>\n",
       "      <td>0</td>\n",
       "      <td>NaN</td>\n",
       "      <td>NaN</td>\n",
       "      <td>Gar2</td>\n",
       "      <td>12500</td>\n",
       "      <td>6</td>\n",
       "      <td>2010</td>\n",
       "      <td>WD</td>\n",
       "      <td>Normal</td>\n",
       "    </tr>\n",
       "    <tr>\n",
       "      <th>2</th>\n",
       "      <td>1463</td>\n",
       "      <td>60</td>\n",
       "      <td>RL</td>\n",
       "      <td>74.0</td>\n",
       "      <td>13830</td>\n",
       "      <td>Pave</td>\n",
       "      <td>NaN</td>\n",
       "      <td>IR1</td>\n",
       "      <td>Lvl</td>\n",
       "      <td>AllPub</td>\n",
       "      <td>...</td>\n",
       "      <td>0</td>\n",
       "      <td>0</td>\n",
       "      <td>NaN</td>\n",
       "      <td>MnPrv</td>\n",
       "      <td>NaN</td>\n",
       "      <td>0</td>\n",
       "      <td>3</td>\n",
       "      <td>2010</td>\n",
       "      <td>WD</td>\n",
       "      <td>Normal</td>\n",
       "    </tr>\n",
       "    <tr>\n",
       "      <th>3</th>\n",
       "      <td>1464</td>\n",
       "      <td>60</td>\n",
       "      <td>RL</td>\n",
       "      <td>78.0</td>\n",
       "      <td>9978</td>\n",
       "      <td>Pave</td>\n",
       "      <td>NaN</td>\n",
       "      <td>IR1</td>\n",
       "      <td>Lvl</td>\n",
       "      <td>AllPub</td>\n",
       "      <td>...</td>\n",
       "      <td>0</td>\n",
       "      <td>0</td>\n",
       "      <td>NaN</td>\n",
       "      <td>NaN</td>\n",
       "      <td>NaN</td>\n",
       "      <td>0</td>\n",
       "      <td>6</td>\n",
       "      <td>2010</td>\n",
       "      <td>WD</td>\n",
       "      <td>Normal</td>\n",
       "    </tr>\n",
       "    <tr>\n",
       "      <th>4</th>\n",
       "      <td>1465</td>\n",
       "      <td>120</td>\n",
       "      <td>RL</td>\n",
       "      <td>43.0</td>\n",
       "      <td>5005</td>\n",
       "      <td>Pave</td>\n",
       "      <td>NaN</td>\n",
       "      <td>IR1</td>\n",
       "      <td>HLS</td>\n",
       "      <td>AllPub</td>\n",
       "      <td>...</td>\n",
       "      <td>144</td>\n",
       "      <td>0</td>\n",
       "      <td>NaN</td>\n",
       "      <td>NaN</td>\n",
       "      <td>NaN</td>\n",
       "      <td>0</td>\n",
       "      <td>1</td>\n",
       "      <td>2010</td>\n",
       "      <td>WD</td>\n",
       "      <td>Normal</td>\n",
       "    </tr>\n",
       "  </tbody>\n",
       "</table>\n",
       "<p>5 rows × 80 columns</p>\n",
       "</div>"
      ],
      "text/plain": [
       "     Id  MSSubClass MSZoning  LotFrontage  LotArea Street Alley LotShape  \\\n",
       "0  1461          20       RH         80.0    11622   Pave   NaN      Reg   \n",
       "1  1462          20       RL         81.0    14267   Pave   NaN      IR1   \n",
       "2  1463          60       RL         74.0    13830   Pave   NaN      IR1   \n",
       "3  1464          60       RL         78.0     9978   Pave   NaN      IR1   \n",
       "4  1465         120       RL         43.0     5005   Pave   NaN      IR1   \n",
       "\n",
       "  LandContour Utilities  ... ScreenPorch PoolArea PoolQC  Fence MiscFeature  \\\n",
       "0         Lvl    AllPub  ...         120        0    NaN  MnPrv         NaN   \n",
       "1         Lvl    AllPub  ...           0        0    NaN    NaN        Gar2   \n",
       "2         Lvl    AllPub  ...           0        0    NaN  MnPrv         NaN   \n",
       "3         Lvl    AllPub  ...           0        0    NaN    NaN         NaN   \n",
       "4         HLS    AllPub  ...         144        0    NaN    NaN         NaN   \n",
       "\n",
       "  MiscVal MoSold  YrSold  SaleType  SaleCondition  \n",
       "0       0      6    2010        WD         Normal  \n",
       "1   12500      6    2010        WD         Normal  \n",
       "2       0      3    2010        WD         Normal  \n",
       "3       0      6    2010        WD         Normal  \n",
       "4       0      1    2010        WD         Normal  \n",
       "\n",
       "[5 rows x 80 columns]"
      ]
     },
     "execution_count": 48,
     "metadata": {},
     "output_type": "execute_result"
    }
   ],
   "source": [
    "test_df = pd.read_csv('../input/house-prices-advanced-regression-techniques/test.csv')\n",
    "test_df.head(5)"
   ]
  },
  {
   "cell_type": "code",
   "execution_count": 49,
   "id": "5dd2455a",
   "metadata": {
    "execution": {
     "iopub.execute_input": "2021-08-11T05:48:42.685896Z",
     "iopub.status.busy": "2021-08-11T05:48:42.685071Z",
     "iopub.status.idle": "2021-08-11T05:48:42.690490Z",
     "shell.execute_reply": "2021-08-11T05:48:42.691009Z",
     "shell.execute_reply.started": "2021-08-11T04:26:48.876672Z"
    },
    "id": "8mDBJvJmbFd5",
    "outputId": "630916dd-7da5-47b6-ec9c-33f5efb7f22a",
    "papermill": {
     "duration": 0.085827,
     "end_time": "2021-08-11T05:48:42.691198",
     "exception": false,
     "start_time": "2021-08-11T05:48:42.605371",
     "status": "completed"
    },
    "tags": []
   },
   "outputs": [
    {
     "data": {
      "text/plain": [
       "(1459, 80)"
      ]
     },
     "execution_count": 49,
     "metadata": {},
     "output_type": "execute_result"
    }
   ],
   "source": [
    "test_df.shape"
   ]
  },
  {
   "cell_type": "code",
   "execution_count": 50,
   "id": "172c5350",
   "metadata": {
    "execution": {
     "iopub.execute_input": "2021-08-11T05:48:42.847059Z",
     "iopub.status.busy": "2021-08-11T05:48:42.846429Z",
     "iopub.status.idle": "2021-08-11T05:48:42.852662Z",
     "shell.execute_reply": "2021-08-11T05:48:42.853174Z",
     "shell.execute_reply.started": "2021-08-11T04:26:48.882829Z"
    },
    "id": "VGpF-hnZXg2N",
    "papermill": {
     "duration": 0.085687,
     "end_time": "2021-08-11T05:48:42.853363",
     "exception": false,
     "start_time": "2021-08-11T05:48:42.767676",
     "status": "completed"
    },
    "tags": []
   },
   "outputs": [],
   "source": [
    "test_df = test_df.drop(['Alley','PoolQC','MiscFeature','Fence'], axis=1)"
   ]
  },
  {
   "cell_type": "code",
   "execution_count": 51,
   "id": "ac2c148e",
   "metadata": {
    "execution": {
     "iopub.execute_input": "2021-08-11T05:48:43.012551Z",
     "iopub.status.busy": "2021-08-11T05:48:43.011855Z",
     "iopub.status.idle": "2021-08-11T05:48:43.015580Z",
     "shell.execute_reply": "2021-08-11T05:48:43.016093Z",
     "shell.execute_reply.started": "2021-08-11T04:26:48.895004Z"
    },
    "id": "xcc3CpOthQKr",
    "papermill": {
     "duration": 0.085736,
     "end_time": "2021-08-11T05:48:43.016295",
     "exception": false,
     "start_time": "2021-08-11T05:48:42.930559",
     "status": "completed"
    },
    "tags": []
   },
   "outputs": [],
   "source": [
    "test_id = test_df['Id']"
   ]
  },
  {
   "cell_type": "code",
   "execution_count": 52,
   "id": "421185f5",
   "metadata": {
    "execution": {
     "iopub.execute_input": "2021-08-11T05:48:43.172485Z",
     "iopub.status.busy": "2021-08-11T05:48:43.171869Z",
     "iopub.status.idle": "2021-08-11T05:48:43.204204Z",
     "shell.execute_reply": "2021-08-11T05:48:43.204737Z",
     "shell.execute_reply.started": "2021-08-11T04:26:48.905595Z"
    },
    "id": "aNipAjKROoVi",
    "papermill": {
     "duration": 0.112243,
     "end_time": "2021-08-11T05:48:43.204909",
     "exception": false,
     "start_time": "2021-08-11T05:48:43.092666",
     "status": "completed"
    },
    "tags": []
   },
   "outputs": [],
   "source": [
    "# Converting:\n",
    "test_df = test_df.apply(lambda x: pd.factorize(x)[0])"
   ]
  },
  {
   "cell_type": "markdown",
   "id": "dc60268a",
   "metadata": {
    "id": "T66GRvq6MOB2",
    "papermill": {
     "duration": 0.076269,
     "end_time": "2021-08-11T05:48:43.358527",
     "exception": false,
     "start_time": "2021-08-11T05:48:43.282258",
     "status": "completed"
    },
    "tags": []
   },
   "source": [
    "# Prediction"
   ]
  },
  {
   "cell_type": "markdown",
   "id": "f4c617c0",
   "metadata": {
    "papermill": {
     "duration": 0.079426,
     "end_time": "2021-08-11T05:48:43.518492",
     "exception": false,
     "start_time": "2021-08-11T05:48:43.439066",
     "status": "completed"
    },
    "tags": []
   },
   "source": [
    "I have tried 3 algorithm to build model, and checking performance for all of them. I have used below algorithm,\n",
    "1. Linear Regression\n",
    "1. Bayesian Regression\n",
    "1. Ridge"
   ]
  },
  {
   "cell_type": "code",
   "execution_count": 53,
   "id": "2b68a730",
   "metadata": {
    "execution": {
     "iopub.execute_input": "2021-08-11T05:48:43.674394Z",
     "iopub.status.busy": "2021-08-11T05:48:43.673759Z",
     "iopub.status.idle": "2021-08-11T05:48:43.685447Z",
     "shell.execute_reply": "2021-08-11T05:48:43.684906Z",
     "shell.execute_reply.started": "2021-08-11T04:26:48.940629Z"
    },
    "id": "usY15D0KYEYJ",
    "outputId": "0bdea32e-606d-48cb-a052-a5cad9dfc76a",
    "papermill": {
     "duration": 0.090684,
     "end_time": "2021-08-11T05:48:43.685596",
     "exception": false,
     "start_time": "2021-08-11T05:48:43.594912",
     "status": "completed"
    },
    "tags": []
   },
   "outputs": [
    {
     "data": {
      "text/plain": [
       "((1457, 75), (1457,), (1459, 75))"
      ]
     },
     "execution_count": 53,
     "metadata": {},
     "output_type": "execute_result"
    }
   ],
   "source": [
    "X_train =  train_df.drop(\"SalePrice\", axis=1)\n",
    "Y_train = train_df[\"SalePrice\"]\n",
    "X_test  = test_df.drop(\"Id\", axis=1).copy()\n",
    "X_train.shape, Y_train.shape, X_test.shape"
   ]
  },
  {
   "cell_type": "code",
   "execution_count": 54,
   "id": "66a8981e",
   "metadata": {
    "execution": {
     "iopub.execute_input": "2021-08-11T05:48:43.844894Z",
     "iopub.status.busy": "2021-08-11T05:48:43.843847Z",
     "iopub.status.idle": "2021-08-11T05:48:44.130113Z",
     "shell.execute_reply": "2021-08-11T05:48:44.130851Z",
     "shell.execute_reply.started": "2021-08-11T04:26:48.953747Z"
    },
    "id": "5WFJDeMGtre-",
    "papermill": {
     "duration": 0.368327,
     "end_time": "2021-08-11T05:48:44.131051",
     "exception": false,
     "start_time": "2021-08-11T05:48:43.762724",
     "status": "completed"
    },
    "tags": []
   },
   "outputs": [],
   "source": [
    "from sklearn import datasets, linear_model\n",
    "\n",
    "\n",
    "# Create linear regression object\n",
    "regr = linear_model.LinearRegression()\n",
    "\n",
    "# Train the model using the training sets\n",
    "regr.fit(X_train, Y_train)\n",
    "\n",
    "# Make predictions using the testing set\n",
    "y_pred = regr.predict(X_test)"
   ]
  },
  {
   "cell_type": "code",
   "execution_count": 55,
   "id": "ef79a735",
   "metadata": {
    "execution": {
     "iopub.execute_input": "2021-08-11T05:48:44.345649Z",
     "iopub.status.busy": "2021-08-11T05:48:44.344528Z",
     "iopub.status.idle": "2021-08-11T05:48:44.352366Z",
     "shell.execute_reply": "2021-08-11T05:48:44.353360Z",
     "shell.execute_reply.started": "2021-08-11T04:26:49.281615Z"
    },
    "papermill": {
     "duration": 0.096897,
     "end_time": "2021-08-11T05:48:44.353636",
     "exception": false,
     "start_time": "2021-08-11T05:48:44.256739",
     "status": "completed"
    },
    "tags": []
   },
   "outputs": [
    {
     "data": {
      "text/plain": [
       "27.51"
      ]
     },
     "execution_count": 55,
     "metadata": {},
     "output_type": "execute_result"
    }
   ],
   "source": [
    "acc_reg = round(regr.score(X_train, Y_train) * 100, 2)\n",
    "acc_reg"
   ]
  },
  {
   "cell_type": "code",
   "execution_count": 56,
   "id": "d08a327a",
   "metadata": {
    "execution": {
     "iopub.execute_input": "2021-08-11T05:48:44.566579Z",
     "iopub.status.busy": "2021-08-11T05:48:44.565414Z",
     "iopub.status.idle": "2021-08-11T05:48:44.607498Z",
     "shell.execute_reply": "2021-08-11T05:48:44.608428Z",
     "shell.execute_reply.started": "2021-08-11T04:26:49.299994Z"
    },
    "papermill": {
     "duration": 0.127996,
     "end_time": "2021-08-11T05:48:44.608701",
     "exception": false,
     "start_time": "2021-08-11T05:48:44.480705",
     "status": "completed"
    },
    "tags": []
   },
   "outputs": [
    {
     "data": {
      "text/plain": [
       "19.99"
      ]
     },
     "execution_count": 56,
     "metadata": {},
     "output_type": "execute_result"
    }
   ],
   "source": [
    "from sklearn.linear_model import BayesianRidge\n",
    "\n",
    "BayReg = linear_model.BayesianRidge(n_iter=500,alpha_1=0.001)\n",
    "BayReg.fit(X_train, Y_train)\n",
    "\n",
    "y_pred_b = BayReg.predict(X_test)\n",
    "\n",
    "acc_BayReg = round(BayReg.score(X_train, Y_train) * 100, 2)\n",
    "acc_BayReg"
   ]
  },
  {
   "cell_type": "code",
   "execution_count": 57,
   "id": "7dd19062",
   "metadata": {
    "execution": {
     "iopub.execute_input": "2021-08-11T05:48:44.819969Z",
     "iopub.status.busy": "2021-08-11T05:48:44.818900Z",
     "iopub.status.idle": "2021-08-11T05:48:44.825963Z",
     "shell.execute_reply": "2021-08-11T05:48:44.826908Z",
     "shell.execute_reply.started": "2021-08-11T04:26:49.456986Z"
    },
    "papermill": {
     "duration": 0.092614,
     "end_time": "2021-08-11T05:48:44.827175",
     "exception": false,
     "start_time": "2021-08-11T05:48:44.734561",
     "status": "completed"
    },
    "tags": []
   },
   "outputs": [
    {
     "data": {
      "text/plain": [
       "19.99"
      ]
     },
     "execution_count": 57,
     "metadata": {},
     "output_type": "execute_result"
    }
   ],
   "source": [
    "acc_BayReg = round(BayReg.score(X_train, Y_train) * 100, 2)\n",
    "acc_BayReg"
   ]
  },
  {
   "cell_type": "code",
   "execution_count": 58,
   "id": "b0b90390",
   "metadata": {
    "execution": {
     "iopub.execute_input": "2021-08-11T05:48:45.041327Z",
     "iopub.status.busy": "2021-08-11T05:48:45.040511Z",
     "iopub.status.idle": "2021-08-11T05:48:46.540160Z",
     "shell.execute_reply": "2021-08-11T05:48:46.540844Z",
     "shell.execute_reply.started": "2021-08-11T04:26:49.473216Z"
    },
    "papermill": {
     "duration": 1.585046,
     "end_time": "2021-08-11T05:48:46.541040",
     "exception": false,
     "start_time": "2021-08-11T05:48:44.955994",
     "status": "completed"
    },
    "tags": []
   },
   "outputs": [
    {
     "name": "stdout",
     "output_type": "stream",
     "text": [
      "Performance on train data: 0.5833093466496431\n"
     ]
    }
   ],
   "source": [
    "import xgboost as xgb\n",
    "from xgboost import plot_tree\n",
    "xgb_model = xgb.XGBRegressor(subsample = 0.2, \n",
    "                             learning_rate=0.01,\n",
    "                             max_depth=4, \n",
    "                             n_estimators=700).fit(X_train, Y_train)\n",
    "print(\"Performance on train data:\", xgb_model.score(X_train, Y_train))"
   ]
  },
  {
   "cell_type": "code",
   "execution_count": 59,
   "id": "24557af6",
   "metadata": {
    "execution": {
     "iopub.execute_input": "2021-08-11T05:48:46.703585Z",
     "iopub.status.busy": "2021-08-11T05:48:46.702655Z",
     "iopub.status.idle": "2021-08-11T05:48:46.714530Z",
     "shell.execute_reply": "2021-08-11T05:48:46.715166Z",
     "shell.execute_reply.started": "2021-08-11T04:26:50.974881Z"
    },
    "papermill": {
     "duration": 0.094601,
     "end_time": "2021-08-11T05:48:46.715370",
     "exception": false,
     "start_time": "2021-08-11T05:48:46.620769",
     "status": "completed"
    },
    "tags": []
   },
   "outputs": [],
   "source": [
    "y_pred_x = xgb_model.predict(X_test)"
   ]
  },
  {
   "cell_type": "markdown",
   "id": "f50fa21b",
   "metadata": {
    "papermill": {
     "duration": 0.079196,
     "end_time": "2021-08-11T05:48:46.877065",
     "exception": false,
     "start_time": "2021-08-11T05:48:46.797869",
     "status": "completed"
    },
    "tags": []
   },
   "source": [
    "Before using Ridge algorithm, we can use GridSearch to select better hyperparamters."
   ]
  },
  {
   "cell_type": "code",
   "execution_count": 60,
   "id": "55789eef",
   "metadata": {
    "execution": {
     "iopub.execute_input": "2021-08-11T05:48:47.045245Z",
     "iopub.status.busy": "2021-08-11T05:48:47.044504Z",
     "iopub.status.idle": "2021-08-11T05:52:07.852697Z",
     "shell.execute_reply": "2021-08-11T05:52:07.853227Z",
     "shell.execute_reply.started": "2021-08-11T04:26:50.991068Z"
    },
    "papermill": {
     "duration": 200.89683,
     "end_time": "2021-08-11T05:52:07.853424",
     "exception": false,
     "start_time": "2021-08-11T05:48:46.956594",
     "status": "completed"
    },
    "tags": []
   },
   "outputs": [
    {
     "name": "stdout",
     "output_type": "stream",
     "text": [
      "Best Score: -131.95590490851131\n",
      "Best Hyperparameters: {'alpha': 0.0001, 'fit_intercept': False, 'normalize': False, 'solver': 'sag'}\n"
     ]
    }
   ],
   "source": [
    "from sklearn.linear_model import Ridge\n",
    "from sklearn.model_selection import RepeatedKFold\n",
    "from sklearn.model_selection import GridSearchCV\n",
    "\n",
    "# define model\n",
    "model = Ridge()\n",
    "# define evaluation\n",
    "cv = RepeatedKFold(n_splits=10, n_repeats=3, random_state=1)\n",
    "# define search space\n",
    "space = dict()\n",
    "space['solver'] = ['svd', 'cholesky', 'lsqr', 'sag']\n",
    "space['alpha'] = [1e-5, 1e-4, 1e-3, 1e-2, 1e-1, 1, 10, 100]\n",
    "space['fit_intercept'] = [True, False]\n",
    "space['normalize'] = [True, False]\n",
    "# define search\n",
    "search = GridSearchCV(model, space, scoring='neg_mean_absolute_error', n_jobs=-1, cv=cv)\n",
    "# execute search\n",
    "result = search.fit(X_train, Y_train)\n",
    "# summarize result\n",
    "print('Best Score: %s' % result.best_score_)\n",
    "print('Best Hyperparameters: %s' % result.best_params_)"
   ]
  },
  {
   "cell_type": "code",
   "execution_count": 61,
   "id": "b07be846",
   "metadata": {
    "execution": {
     "iopub.execute_input": "2021-08-11T05:52:08.073793Z",
     "iopub.status.busy": "2021-08-11T05:52:08.073105Z",
     "iopub.status.idle": "2021-08-11T05:52:08.709181Z",
     "shell.execute_reply": "2021-08-11T05:52:08.709744Z",
     "shell.execute_reply.started": "2021-08-11T04:30:14.583314Z"
    },
    "papermill": {
     "duration": 0.778661,
     "end_time": "2021-08-11T05:52:08.709932",
     "exception": false,
     "start_time": "2021-08-11T05:52:07.931271",
     "status": "completed"
    },
    "tags": []
   },
   "outputs": [],
   "source": [
    "from sklearn.linear_model import Ridge\n",
    "\n",
    "BayReg = linear_model.Ridge(alpha= 0.01,fit_intercept= False, normalize= False, solver= 'sag')\n",
    "BayReg.fit(X_train, Y_train)\n",
    "\n",
    "y_pred_b = BayReg.predict(X_test)"
   ]
  },
  {
   "cell_type": "code",
   "execution_count": 62,
   "id": "fc367c31",
   "metadata": {
    "execution": {
     "iopub.execute_input": "2021-08-11T05:52:08.924201Z",
     "iopub.status.busy": "2021-08-11T05:52:08.923098Z",
     "iopub.status.idle": "2021-08-11T05:52:08.931058Z",
     "shell.execute_reply": "2021-08-11T05:52:08.932033Z",
     "shell.execute_reply.started": "2021-08-11T04:30:15.244045Z"
    },
    "papermill": {
     "duration": 0.095127,
     "end_time": "2021-08-11T05:52:08.932310",
     "exception": false,
     "start_time": "2021-08-11T05:52:08.837183",
     "status": "completed"
    },
    "tags": []
   },
   "outputs": [
    {
     "data": {
      "text/plain": [
       "23.0"
      ]
     },
     "execution_count": 62,
     "metadata": {},
     "output_type": "execute_result"
    }
   ],
   "source": [
    "acc_Reg1 = round(BayReg.score(X_train, Y_train) * 100, 2)\n",
    "acc_Reg1"
   ]
  },
  {
   "cell_type": "code",
   "execution_count": 63,
   "id": "9959e6e4",
   "metadata": {
    "execution": {
     "iopub.execute_input": "2021-08-11T05:52:09.146198Z",
     "iopub.status.busy": "2021-08-11T05:52:09.145147Z",
     "iopub.status.idle": "2021-08-11T05:52:09.147748Z",
     "shell.execute_reply": "2021-08-11T05:52:09.148250Z",
     "shell.execute_reply.started": "2021-08-11T04:49:32.197323Z"
    },
    "papermill": {
     "duration": 0.087054,
     "end_time": "2021-08-11T05:52:09.148416",
     "exception": false,
     "start_time": "2021-08-11T05:52:09.061362",
     "status": "completed"
    },
    "tags": []
   },
   "outputs": [],
   "source": [
    "#Create a  DataFrame with the passengers ids and our prediction\n",
    "submission = pd.DataFrame({'Id':test_id,'SalePrice':y_pred_b})"
   ]
  },
  {
   "cell_type": "code",
   "execution_count": 64,
   "id": "a5fb6d75",
   "metadata": {
    "execution": {
     "iopub.execute_input": "2021-08-11T05:52:09.314177Z",
     "iopub.status.busy": "2021-08-11T05:52:09.313216Z",
     "iopub.status.idle": "2021-08-11T05:52:09.327738Z",
     "shell.execute_reply": "2021-08-11T05:52:09.328312Z",
     "shell.execute_reply.started": "2021-08-11T04:49:36.301592Z"
    },
    "id": "TRdjD8CSewLx",
    "outputId": "2878874b-d341-446e-e6cb-8fcfad89124f",
    "papermill": {
     "duration": 0.101705,
     "end_time": "2021-08-11T05:52:09.328494",
     "exception": false,
     "start_time": "2021-08-11T05:52:09.226789",
     "status": "completed"
    },
    "tags": []
   },
   "outputs": [],
   "source": [
    "#Convert DataFrame to a csv file that can be uploaded\n",
    "#This is saved in the same directory as your notebook\n",
    "filename = './HousePredictions.csv'\n",
    "\n",
    "submission.to_csv(filename,index=False)\n",
    "\n",
    "#print('Saved file: ' + filename)"
   ]
  }
 ],
 "metadata": {
  "kernelspec": {
   "display_name": "Python 3",
   "language": "python",
   "name": "python3"
  },
  "language_info": {
   "codemirror_mode": {
    "name": "ipython",
    "version": 3
   },
   "file_extension": ".py",
   "mimetype": "text/x-python",
   "name": "python",
   "nbconvert_exporter": "python",
   "pygments_lexer": "ipython3",
   "version": "3.7.10"
  },
  "papermill": {
   "default_parameters": {},
   "duration": 229.904447,
   "end_time": "2021-08-11T05:52:10.989086",
   "environment_variables": {},
   "exception": null,
   "input_path": "__notebook__.ipynb",
   "output_path": "__notebook__.ipynb",
   "parameters": {},
   "start_time": "2021-08-11T05:48:21.084639",
   "version": "2.3.3"
  }
 },
 "nbformat": 4,
 "nbformat_minor": 5
}
